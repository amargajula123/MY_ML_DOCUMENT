{
 "cells": [
  {
   "cell_type": "code",
   "execution_count": null,
   "id": "c8eb6022",
   "metadata": {},
   "outputs": [],
   "source": [
    "IQ :=\n",
    "    KNN is a ML algorithem ?\n",
    "    Ans:=\n",
    "        learning is not happaning in \"knn\" so this is not ML algrm\n",
    "        here we r taking the data whatever new point is comming  we are \n",
    "        just matching we are not having any loss func here we r not having \n",
    "        any learning we just calculate the distance based on that we r going \n",
    "        to evavalute our model\n",
    "        \n",
    "    Linear Regression is ML airgm ?\n",
    "    Ans := Yes becoz optimization is happening over there self optimization\n",
    "        parameter is going to self optimize\n",
    "        \n",
    "    can we use KNN for handling missing value?\n",
    "    Ans:=\n",
    "        yes whateever missing values we are having we will make it has a \n",
    "        target variable we will try to make it as a trainig variable\n",
    "        \n",
    "    can we give learge dataset  or small data set ?\n",
    "    Ans:=\n",
    "        smalldataset becoz we are just calculate the distance if we increase\n",
    "        the dataset my time complaxity  space is going to be increase  so its\n",
    "        best for the small dataset\n",
    "        \n",
    "    how we can deside K value   ?\n",
    "    Ans:=\n",
    "        k is hyper parameter we can take different different values we can \n",
    "        evalute our model based on accuracy we can deside K value\n",
    "        \n",
    "    Can we saolve Regression and Classification with KNN ?\n",
    "    Ans:=\n",
    "        yes both problem we can solve with the help of KNN\n",
    "        \n",
    "    what is the difference bitween lasy learner and   egar learner and \n",
    "    Why KNN is lasy learner ?\n",
    "    Ans:=\n",
    "        egar learner generalized the data lasy learner we just fitting the data\n",
    "        means we are just giving the data for calculation we are generalizide the\n",
    "        dat with  the help of loss func we are optimazing the parameter\n",
    "    \n",
    "    \n",
    "Datastructure     \n",
    "we are going to arrange data structure in a best possible way"
   ]
  },
  {
   "cell_type": "code",
   "execution_count": null,
   "id": "7adac1ac",
   "metadata": {},
   "outputs": [],
   "source": []
  },
  {
   "cell_type": "code",
   "execution_count": null,
   "id": "c935a47f",
   "metadata": {},
   "outputs": [],
   "source": [
    "we are having data \n",
    "\n",
    "we cando \"train test split\" it is for random sample we are taking for creating a\n",
    "model\n",
    "\n",
    "\"Train data\" we giving for our modelbuilding\n",
    "\n",
    "\"Test data\" we giving for our model validation\n",
    "\n",
    "then 2nd thing  \n",
    "Cross_validation\n",
    "\n",
    "\"Cross_validation\" is nothing iterating over the data over here \n",
    "we getting avarage accuracu\n",
    "\n",
    "then 3rd thing\n",
    "\n",
    "'hyper parameter tunning'\n",
    "here we are having different different parameters with respect to \n",
    "different different models and we are playing with a hyper parameters\n",
    "like \"GridsearchCV\" \"Random Search\" \n",
    "\n",
    "\n",
    "then next 4rt evaluate the model \n",
    "\n",
    "it classifiece 3 parts \n",
    "based on supewise we can do \"regression\" and \"classification\"  problems\n",
    "\n",
    "so regession problem \"r square\" \"adjested r square\" \"MSE\" \"MAE\" we can \n",
    "evalute our model with this\n",
    "\n",
    "so classification problem \"confussion matrec\"  in side this confussion \n",
    "metrics we are having TP FN FP TN based on this we conclude \"TPR\" \"FPR\"\n",
    "\"FNR\" \"TNR\" \"Precission\" \"Recall\" \"accuracy_score\" \"f1_score\" \"specisivity\"\n",
    "\"spencisivity\" based on this all we evalute our Ml model\n",
    "\n",
    "with respect to Evalution for \"clustering\" \n",
    "we are having  \"jacked score\" \"shilhout score \" \"empurity\""
   ]
  },
  {
   "cell_type": "code",
   "execution_count": 1,
   "id": "0636d120",
   "metadata": {},
   "outputs": [
    {
     "data": {
      "text/plain": [
       "KNeighborsClassifier(n_neighbors=3)"
      ]
     },
     "execution_count": 1,
     "metadata": {},
     "output_type": "execute_result"
    }
   ],
   "source": [
    "X=[[0],[1],[2],[3]]\n",
    "y=[0,0,1,1]\n",
    "from sklearn.neighbors import KNeighborsClassifier\n",
    "\n",
    "neigh = KNeighborsClassifier(n_neighbors=3)\n",
    "neigh.fit(X,y)"
   ]
  },
  {
   "cell_type": "code",
   "execution_count": 2,
   "id": "7ef120fe",
   "metadata": {},
   "outputs": [
    {
     "data": {
      "text/plain": [
       "array([0])"
      ]
     },
     "execution_count": 2,
     "metadata": {},
     "output_type": "execute_result"
    }
   ],
   "source": [
    "neigh.predict([[1.1]])"
   ]
  },
  {
   "cell_type": "code",
   "execution_count": 3,
   "id": "eba71218",
   "metadata": {},
   "outputs": [
    {
     "data": {
      "text/plain": [
       "array([[0.66666667, 0.33333333]])"
      ]
     },
     "execution_count": 3,
     "metadata": {},
     "output_type": "execute_result"
    }
   ],
   "source": [
    "neigh.predict_proba([[0.9]])"
   ]
  },
  {
   "cell_type": "code",
   "execution_count": null,
   "id": "0091dd57",
   "metadata": {},
   "outputs": [],
   "source": []
  }
 ],
 "metadata": {
  "kernelspec": {
   "display_name": "Python 3 (ipykernel)",
   "language": "python",
   "name": "python3"
  },
  "language_info": {
   "codemirror_mode": {
    "name": "ipython",
    "version": 3
   },
   "file_extension": ".py",
   "mimetype": "text/x-python",
   "name": "python",
   "nbconvert_exporter": "python",
   "pygments_lexer": "ipython3",
   "version": "3.9.7"
  }
 },
 "nbformat": 4,
 "nbformat_minor": 5
}
