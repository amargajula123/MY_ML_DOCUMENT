{
 "cells": [
  {
   "cell_type": "code",
   "execution_count": 1,
   "id": "0f366112",
   "metadata": {},
   "outputs": [],
   "source": [
    "import pandas as pd"
   ]
  },
  {
   "cell_type": "code",
   "execution_count": 2,
   "id": "411eadab",
   "metadata": {},
   "outputs": [
    {
     "data": {
      "text/html": [
       "<div>\n",
       "<style scoped>\n",
       "    .dataframe tbody tr th:only-of-type {\n",
       "        vertical-align: middle;\n",
       "    }\n",
       "\n",
       "    .dataframe tbody tr th {\n",
       "        vertical-align: top;\n",
       "    }\n",
       "\n",
       "    .dataframe thead th {\n",
       "        text-align: right;\n",
       "    }\n",
       "</style>\n",
       "<table border=\"1\" class=\"dataframe\">\n",
       "  <thead>\n",
       "    <tr style=\"text-align: right;\">\n",
       "      <th></th>\n",
       "      <th>0</th>\n",
       "      <th>0.3048</th>\n",
       "      <th>71.3</th>\n",
       "      <th>0.00266337</th>\n",
       "      <th>126.201</th>\n",
       "    </tr>\n",
       "    <tr>\n",
       "      <th>800</th>\n",
       "      <th></th>\n",
       "      <th></th>\n",
       "      <th></th>\n",
       "      <th></th>\n",
       "      <th></th>\n",
       "    </tr>\n",
       "  </thead>\n",
       "  <tbody>\n",
       "    <tr>\n",
       "      <th>1000</th>\n",
       "      <td>0.0</td>\n",
       "      <td>0.3048</td>\n",
       "      <td>71.3</td>\n",
       "      <td>0.002663</td>\n",
       "      <td>125.201</td>\n",
       "    </tr>\n",
       "    <tr>\n",
       "      <th>1250</th>\n",
       "      <td>0.0</td>\n",
       "      <td>0.3048</td>\n",
       "      <td>71.3</td>\n",
       "      <td>0.002663</td>\n",
       "      <td>125.951</td>\n",
       "    </tr>\n",
       "    <tr>\n",
       "      <th>1600</th>\n",
       "      <td>0.0</td>\n",
       "      <td>0.3048</td>\n",
       "      <td>71.3</td>\n",
       "      <td>0.002663</td>\n",
       "      <td>127.591</td>\n",
       "    </tr>\n",
       "    <tr>\n",
       "      <th>2000</th>\n",
       "      <td>0.0</td>\n",
       "      <td>0.3048</td>\n",
       "      <td>71.3</td>\n",
       "      <td>0.002663</td>\n",
       "      <td>127.461</td>\n",
       "    </tr>\n",
       "    <tr>\n",
       "      <th>2500</th>\n",
       "      <td>0.0</td>\n",
       "      <td>0.3048</td>\n",
       "      <td>71.3</td>\n",
       "      <td>0.002663</td>\n",
       "      <td>125.571</td>\n",
       "    </tr>\n",
       "    <tr>\n",
       "      <th>...</th>\n",
       "      <td>...</td>\n",
       "      <td>...</td>\n",
       "      <td>...</td>\n",
       "      <td>...</td>\n",
       "      <td>...</td>\n",
       "    </tr>\n",
       "    <tr>\n",
       "      <th>2500</th>\n",
       "      <td>15.6</td>\n",
       "      <td>0.1016</td>\n",
       "      <td>39.6</td>\n",
       "      <td>0.052849</td>\n",
       "      <td>110.264</td>\n",
       "    </tr>\n",
       "    <tr>\n",
       "      <th>3150</th>\n",
       "      <td>15.6</td>\n",
       "      <td>0.1016</td>\n",
       "      <td>39.6</td>\n",
       "      <td>0.052849</td>\n",
       "      <td>109.254</td>\n",
       "    </tr>\n",
       "    <tr>\n",
       "      <th>4000</th>\n",
       "      <td>15.6</td>\n",
       "      <td>0.1016</td>\n",
       "      <td>39.6</td>\n",
       "      <td>0.052849</td>\n",
       "      <td>106.604</td>\n",
       "    </tr>\n",
       "    <tr>\n",
       "      <th>5000</th>\n",
       "      <td>15.6</td>\n",
       "      <td>0.1016</td>\n",
       "      <td>39.6</td>\n",
       "      <td>0.052849</td>\n",
       "      <td>106.224</td>\n",
       "    </tr>\n",
       "    <tr>\n",
       "      <th>6300</th>\n",
       "      <td>15.6</td>\n",
       "      <td>0.1016</td>\n",
       "      <td>39.6</td>\n",
       "      <td>0.052849</td>\n",
       "      <td>104.204</td>\n",
       "    </tr>\n",
       "  </tbody>\n",
       "</table>\n",
       "<p>1502 rows × 5 columns</p>\n",
       "</div>"
      ],
      "text/plain": [
       "         0  0.3048  71.3  0.00266337  126.201\n",
       "800                                          \n",
       "1000   0.0  0.3048  71.3    0.002663  125.201\n",
       "1250   0.0  0.3048  71.3    0.002663  125.951\n",
       "1600   0.0  0.3048  71.3    0.002663  127.591\n",
       "2000   0.0  0.3048  71.3    0.002663  127.461\n",
       "2500   0.0  0.3048  71.3    0.002663  125.571\n",
       "...    ...     ...   ...         ...      ...\n",
       "2500  15.6  0.1016  39.6    0.052849  110.264\n",
       "3150  15.6  0.1016  39.6    0.052849  109.254\n",
       "4000  15.6  0.1016  39.6    0.052849  106.604\n",
       "5000  15.6  0.1016  39.6    0.052849  106.224\n",
       "6300  15.6  0.1016  39.6    0.052849  104.204\n",
       "\n",
       "[1502 rows x 5 columns]"
      ]
     },
     "execution_count": 2,
     "metadata": {},
     "output_type": "execute_result"
    }
   ],
   "source": [
    "pd.read_csv('airfoil_self_noise (1).dat',sep='\\t',index_col=0)"
   ]
  },
  {
   "cell_type": "markdown",
   "id": "902cb3a3",
   "metadata": {},
   "source": [
    "### Attribute Information:\n",
    "\n",
    "    This problem has the following inputs:\n",
    "    1. Frequency, in Hertzs.\n",
    "    2. Angle of attack, in degrees.\n",
    "    3. Chord length, in meters.\n",
    "    4. Free-stream velocity, in meters per second.\n",
    "    5. Suction side displacement thickness, in meters.\n",
    "\n",
    "### The only output is:\n",
    "    6. Scaled sound pressure level, in decibels."
   ]
  },
  {
   "cell_type": "code",
   "execution_count": 4,
   "id": "19950aff",
   "metadata": {},
   "outputs": [],
   "source": [
    "df=pd.read_csv('airfoil_self_noise (1).dat',sep='\\t',header=None)"
   ]
  },
  {
   "cell_type": "code",
   "execution_count": 5,
   "id": "3c2c73a7",
   "metadata": {},
   "outputs": [
    {
     "data": {
      "text/html": [
       "<div>\n",
       "<style scoped>\n",
       "    .dataframe tbody tr th:only-of-type {\n",
       "        vertical-align: middle;\n",
       "    }\n",
       "\n",
       "    .dataframe tbody tr th {\n",
       "        vertical-align: top;\n",
       "    }\n",
       "\n",
       "    .dataframe thead th {\n",
       "        text-align: right;\n",
       "    }\n",
       "</style>\n",
       "<table border=\"1\" class=\"dataframe\">\n",
       "  <thead>\n",
       "    <tr style=\"text-align: right;\">\n",
       "      <th></th>\n",
       "      <th>0</th>\n",
       "      <th>1</th>\n",
       "      <th>2</th>\n",
       "      <th>3</th>\n",
       "      <th>4</th>\n",
       "      <th>5</th>\n",
       "    </tr>\n",
       "  </thead>\n",
       "  <tbody>\n",
       "    <tr>\n",
       "      <th>0</th>\n",
       "      <td>800</td>\n",
       "      <td>0.0</td>\n",
       "      <td>0.3048</td>\n",
       "      <td>71.3</td>\n",
       "      <td>0.002663</td>\n",
       "      <td>126.201</td>\n",
       "    </tr>\n",
       "    <tr>\n",
       "      <th>1</th>\n",
       "      <td>1000</td>\n",
       "      <td>0.0</td>\n",
       "      <td>0.3048</td>\n",
       "      <td>71.3</td>\n",
       "      <td>0.002663</td>\n",
       "      <td>125.201</td>\n",
       "    </tr>\n",
       "    <tr>\n",
       "      <th>2</th>\n",
       "      <td>1250</td>\n",
       "      <td>0.0</td>\n",
       "      <td>0.3048</td>\n",
       "      <td>71.3</td>\n",
       "      <td>0.002663</td>\n",
       "      <td>125.951</td>\n",
       "    </tr>\n",
       "    <tr>\n",
       "      <th>3</th>\n",
       "      <td>1600</td>\n",
       "      <td>0.0</td>\n",
       "      <td>0.3048</td>\n",
       "      <td>71.3</td>\n",
       "      <td>0.002663</td>\n",
       "      <td>127.591</td>\n",
       "    </tr>\n",
       "    <tr>\n",
       "      <th>4</th>\n",
       "      <td>2000</td>\n",
       "      <td>0.0</td>\n",
       "      <td>0.3048</td>\n",
       "      <td>71.3</td>\n",
       "      <td>0.002663</td>\n",
       "      <td>127.461</td>\n",
       "    </tr>\n",
       "    <tr>\n",
       "      <th>...</th>\n",
       "      <td>...</td>\n",
       "      <td>...</td>\n",
       "      <td>...</td>\n",
       "      <td>...</td>\n",
       "      <td>...</td>\n",
       "      <td>...</td>\n",
       "    </tr>\n",
       "    <tr>\n",
       "      <th>1498</th>\n",
       "      <td>2500</td>\n",
       "      <td>15.6</td>\n",
       "      <td>0.1016</td>\n",
       "      <td>39.6</td>\n",
       "      <td>0.052849</td>\n",
       "      <td>110.264</td>\n",
       "    </tr>\n",
       "    <tr>\n",
       "      <th>1499</th>\n",
       "      <td>3150</td>\n",
       "      <td>15.6</td>\n",
       "      <td>0.1016</td>\n",
       "      <td>39.6</td>\n",
       "      <td>0.052849</td>\n",
       "      <td>109.254</td>\n",
       "    </tr>\n",
       "    <tr>\n",
       "      <th>1500</th>\n",
       "      <td>4000</td>\n",
       "      <td>15.6</td>\n",
       "      <td>0.1016</td>\n",
       "      <td>39.6</td>\n",
       "      <td>0.052849</td>\n",
       "      <td>106.604</td>\n",
       "    </tr>\n",
       "    <tr>\n",
       "      <th>1501</th>\n",
       "      <td>5000</td>\n",
       "      <td>15.6</td>\n",
       "      <td>0.1016</td>\n",
       "      <td>39.6</td>\n",
       "      <td>0.052849</td>\n",
       "      <td>106.224</td>\n",
       "    </tr>\n",
       "    <tr>\n",
       "      <th>1502</th>\n",
       "      <td>6300</td>\n",
       "      <td>15.6</td>\n",
       "      <td>0.1016</td>\n",
       "      <td>39.6</td>\n",
       "      <td>0.052849</td>\n",
       "      <td>104.204</td>\n",
       "    </tr>\n",
       "  </tbody>\n",
       "</table>\n",
       "<p>1503 rows × 6 columns</p>\n",
       "</div>"
      ],
      "text/plain": [
       "         0     1       2     3         4        5\n",
       "0      800   0.0  0.3048  71.3  0.002663  126.201\n",
       "1     1000   0.0  0.3048  71.3  0.002663  125.201\n",
       "2     1250   0.0  0.3048  71.3  0.002663  125.951\n",
       "3     1600   0.0  0.3048  71.3  0.002663  127.591\n",
       "4     2000   0.0  0.3048  71.3  0.002663  127.461\n",
       "...    ...   ...     ...   ...       ...      ...\n",
       "1498  2500  15.6  0.1016  39.6  0.052849  110.264\n",
       "1499  3150  15.6  0.1016  39.6  0.052849  109.254\n",
       "1500  4000  15.6  0.1016  39.6  0.052849  106.604\n",
       "1501  5000  15.6  0.1016  39.6  0.052849  106.224\n",
       "1502  6300  15.6  0.1016  39.6  0.052849  104.204\n",
       "\n",
       "[1503 rows x 6 columns]"
      ]
     },
     "execution_count": 5,
     "metadata": {},
     "output_type": "execute_result"
    }
   ],
   "source": [
    "df"
   ]
  },
  {
   "cell_type": "code",
   "execution_count": 6,
   "id": "d08b2c8e",
   "metadata": {},
   "outputs": [],
   "source": [
    "df.columns=['Frequency',\"Angle of attack\",\"Chord length\",\"Free-stream\",\"Suction side\",\"pressure level\"]"
   ]
  },
  {
   "cell_type": "code",
   "execution_count": 7,
   "id": "b13ceb1f",
   "metadata": {},
   "outputs": [
    {
     "data": {
      "text/html": [
       "<div>\n",
       "<style scoped>\n",
       "    .dataframe tbody tr th:only-of-type {\n",
       "        vertical-align: middle;\n",
       "    }\n",
       "\n",
       "    .dataframe tbody tr th {\n",
       "        vertical-align: top;\n",
       "    }\n",
       "\n",
       "    .dataframe thead th {\n",
       "        text-align: right;\n",
       "    }\n",
       "</style>\n",
       "<table border=\"1\" class=\"dataframe\">\n",
       "  <thead>\n",
       "    <tr style=\"text-align: right;\">\n",
       "      <th></th>\n",
       "      <th>Frequency</th>\n",
       "      <th>Angle of attack</th>\n",
       "      <th>Chord length</th>\n",
       "      <th>Free-stream</th>\n",
       "      <th>Suction side</th>\n",
       "      <th>pressure level</th>\n",
       "    </tr>\n",
       "  </thead>\n",
       "  <tbody>\n",
       "    <tr>\n",
       "      <th>0</th>\n",
       "      <td>800</td>\n",
       "      <td>0.0</td>\n",
       "      <td>0.3048</td>\n",
       "      <td>71.3</td>\n",
       "      <td>0.002663</td>\n",
       "      <td>126.201</td>\n",
       "    </tr>\n",
       "    <tr>\n",
       "      <th>1</th>\n",
       "      <td>1000</td>\n",
       "      <td>0.0</td>\n",
       "      <td>0.3048</td>\n",
       "      <td>71.3</td>\n",
       "      <td>0.002663</td>\n",
       "      <td>125.201</td>\n",
       "    </tr>\n",
       "    <tr>\n",
       "      <th>2</th>\n",
       "      <td>1250</td>\n",
       "      <td>0.0</td>\n",
       "      <td>0.3048</td>\n",
       "      <td>71.3</td>\n",
       "      <td>0.002663</td>\n",
       "      <td>125.951</td>\n",
       "    </tr>\n",
       "    <tr>\n",
       "      <th>3</th>\n",
       "      <td>1600</td>\n",
       "      <td>0.0</td>\n",
       "      <td>0.3048</td>\n",
       "      <td>71.3</td>\n",
       "      <td>0.002663</td>\n",
       "      <td>127.591</td>\n",
       "    </tr>\n",
       "    <tr>\n",
       "      <th>4</th>\n",
       "      <td>2000</td>\n",
       "      <td>0.0</td>\n",
       "      <td>0.3048</td>\n",
       "      <td>71.3</td>\n",
       "      <td>0.002663</td>\n",
       "      <td>127.461</td>\n",
       "    </tr>\n",
       "    <tr>\n",
       "      <th>...</th>\n",
       "      <td>...</td>\n",
       "      <td>...</td>\n",
       "      <td>...</td>\n",
       "      <td>...</td>\n",
       "      <td>...</td>\n",
       "      <td>...</td>\n",
       "    </tr>\n",
       "    <tr>\n",
       "      <th>1498</th>\n",
       "      <td>2500</td>\n",
       "      <td>15.6</td>\n",
       "      <td>0.1016</td>\n",
       "      <td>39.6</td>\n",
       "      <td>0.052849</td>\n",
       "      <td>110.264</td>\n",
       "    </tr>\n",
       "    <tr>\n",
       "      <th>1499</th>\n",
       "      <td>3150</td>\n",
       "      <td>15.6</td>\n",
       "      <td>0.1016</td>\n",
       "      <td>39.6</td>\n",
       "      <td>0.052849</td>\n",
       "      <td>109.254</td>\n",
       "    </tr>\n",
       "    <tr>\n",
       "      <th>1500</th>\n",
       "      <td>4000</td>\n",
       "      <td>15.6</td>\n",
       "      <td>0.1016</td>\n",
       "      <td>39.6</td>\n",
       "      <td>0.052849</td>\n",
       "      <td>106.604</td>\n",
       "    </tr>\n",
       "    <tr>\n",
       "      <th>1501</th>\n",
       "      <td>5000</td>\n",
       "      <td>15.6</td>\n",
       "      <td>0.1016</td>\n",
       "      <td>39.6</td>\n",
       "      <td>0.052849</td>\n",
       "      <td>106.224</td>\n",
       "    </tr>\n",
       "    <tr>\n",
       "      <th>1502</th>\n",
       "      <td>6300</td>\n",
       "      <td>15.6</td>\n",
       "      <td>0.1016</td>\n",
       "      <td>39.6</td>\n",
       "      <td>0.052849</td>\n",
       "      <td>104.204</td>\n",
       "    </tr>\n",
       "  </tbody>\n",
       "</table>\n",
       "<p>1503 rows × 6 columns</p>\n",
       "</div>"
      ],
      "text/plain": [
       "      Frequency  Angle of attack  Chord length  Free-stream  Suction side  \\\n",
       "0           800              0.0        0.3048         71.3      0.002663   \n",
       "1          1000              0.0        0.3048         71.3      0.002663   \n",
       "2          1250              0.0        0.3048         71.3      0.002663   \n",
       "3          1600              0.0        0.3048         71.3      0.002663   \n",
       "4          2000              0.0        0.3048         71.3      0.002663   \n",
       "...         ...              ...           ...          ...           ...   \n",
       "1498       2500             15.6        0.1016         39.6      0.052849   \n",
       "1499       3150             15.6        0.1016         39.6      0.052849   \n",
       "1500       4000             15.6        0.1016         39.6      0.052849   \n",
       "1501       5000             15.6        0.1016         39.6      0.052849   \n",
       "1502       6300             15.6        0.1016         39.6      0.052849   \n",
       "\n",
       "      pressure level  \n",
       "0            126.201  \n",
       "1            125.201  \n",
       "2            125.951  \n",
       "3            127.591  \n",
       "4            127.461  \n",
       "...              ...  \n",
       "1498         110.264  \n",
       "1499         109.254  \n",
       "1500         106.604  \n",
       "1501         106.224  \n",
       "1502         104.204  \n",
       "\n",
       "[1503 rows x 6 columns]"
      ]
     },
     "execution_count": 7,
     "metadata": {},
     "output_type": "execute_result"
    }
   ],
   "source": [
    "df"
   ]
  },
  {
   "cell_type": "code",
   "execution_count": null,
   "id": "f685b69a",
   "metadata": {},
   "outputs": [],
   "source": []
  },
  {
   "cell_type": "code",
   "execution_count": 77,
   "id": "63c8fe12",
   "metadata": {},
   "outputs": [
    {
     "data": {
      "text/html": [
       "<div>\n",
       "<style scoped>\n",
       "    .dataframe tbody tr th:only-of-type {\n",
       "        vertical-align: middle;\n",
       "    }\n",
       "\n",
       "    .dataframe tbody tr th {\n",
       "        vertical-align: top;\n",
       "    }\n",
       "\n",
       "    .dataframe thead th {\n",
       "        text-align: right;\n",
       "    }\n",
       "</style>\n",
       "<table border=\"1\" class=\"dataframe\">\n",
       "  <thead>\n",
       "    <tr style=\"text-align: right;\">\n",
       "      <th></th>\n",
       "      <th>Frequency</th>\n",
       "      <th>Angle of attack</th>\n",
       "      <th>Chord length</th>\n",
       "      <th>Free-stream</th>\n",
       "      <th>Suction side</th>\n",
       "      <th>pressure level</th>\n",
       "    </tr>\n",
       "  </thead>\n",
       "  <tbody>\n",
       "    <tr>\n",
       "      <th>Frequency</th>\n",
       "      <td>1.000000</td>\n",
       "      <td>-0.272765</td>\n",
       "      <td>-0.003661</td>\n",
       "      <td>0.133664</td>\n",
       "      <td>-0.230107</td>\n",
       "      <td>-0.390711</td>\n",
       "    </tr>\n",
       "    <tr>\n",
       "      <th>Angle of attack</th>\n",
       "      <td>-0.272765</td>\n",
       "      <td>1.000000</td>\n",
       "      <td>-0.504868</td>\n",
       "      <td>0.058760</td>\n",
       "      <td>0.753394</td>\n",
       "      <td>-0.156108</td>\n",
       "    </tr>\n",
       "    <tr>\n",
       "      <th>Chord length</th>\n",
       "      <td>-0.003661</td>\n",
       "      <td>-0.504868</td>\n",
       "      <td>1.000000</td>\n",
       "      <td>0.003787</td>\n",
       "      <td>-0.220842</td>\n",
       "      <td>-0.236162</td>\n",
       "    </tr>\n",
       "    <tr>\n",
       "      <th>Free-stream</th>\n",
       "      <td>0.133664</td>\n",
       "      <td>0.058760</td>\n",
       "      <td>0.003787</td>\n",
       "      <td>1.000000</td>\n",
       "      <td>-0.003974</td>\n",
       "      <td>0.125103</td>\n",
       "    </tr>\n",
       "    <tr>\n",
       "      <th>Suction side</th>\n",
       "      <td>-0.230107</td>\n",
       "      <td>0.753394</td>\n",
       "      <td>-0.220842</td>\n",
       "      <td>-0.003974</td>\n",
       "      <td>1.000000</td>\n",
       "      <td>-0.312670</td>\n",
       "    </tr>\n",
       "    <tr>\n",
       "      <th>pressure level</th>\n",
       "      <td>-0.390711</td>\n",
       "      <td>-0.156108</td>\n",
       "      <td>-0.236162</td>\n",
       "      <td>0.125103</td>\n",
       "      <td>-0.312670</td>\n",
       "      <td>1.000000</td>\n",
       "    </tr>\n",
       "  </tbody>\n",
       "</table>\n",
       "</div>"
      ],
      "text/plain": [
       "                 Frequency  Angle of attack  Chord length  Free-stream  \\\n",
       "Frequency         1.000000        -0.272765     -0.003661     0.133664   \n",
       "Angle of attack  -0.272765         1.000000     -0.504868     0.058760   \n",
       "Chord length     -0.003661        -0.504868      1.000000     0.003787   \n",
       "Free-stream       0.133664         0.058760      0.003787     1.000000   \n",
       "Suction side     -0.230107         0.753394     -0.220842    -0.003974   \n",
       "pressure level   -0.390711        -0.156108     -0.236162     0.125103   \n",
       "\n",
       "                 Suction side  pressure level  \n",
       "Frequency           -0.230107       -0.390711  \n",
       "Angle of attack      0.753394       -0.156108  \n",
       "Chord length        -0.220842       -0.236162  \n",
       "Free-stream         -0.003974        0.125103  \n",
       "Suction side         1.000000       -0.312670  \n",
       "pressure level      -0.312670        1.000000  "
      ]
     },
     "execution_count": 77,
     "metadata": {},
     "output_type": "execute_result"
    }
   ],
   "source": [
    "df.corr()"
   ]
  },
  {
   "cell_type": "code",
   "execution_count": 79,
   "id": "02291a47",
   "metadata": {},
   "outputs": [
    {
     "data": {
      "text/plain": [
       "Frequency          0\n",
       "Angle of attack    0\n",
       "Chord length       0\n",
       "Free-stream        0\n",
       "Suction side       0\n",
       "pressure level     0\n",
       "dtype: int64"
      ]
     },
     "execution_count": 79,
     "metadata": {},
     "output_type": "execute_result"
    }
   ],
   "source": [
    "df.isnull().sum()"
   ]
  },
  {
   "cell_type": "code",
   "execution_count": 9,
   "id": "0d4d8a46",
   "metadata": {},
   "outputs": [],
   "source": [
    "X=df.iloc[:,:-1]\n",
    "y=df.iloc[:,-1]"
   ]
  },
  {
   "cell_type": "code",
   "execution_count": 10,
   "id": "342d337a",
   "metadata": {},
   "outputs": [
    {
     "data": {
      "text/plain": [
       "0       126.201\n",
       "1       125.201\n",
       "2       125.951\n",
       "3       127.591\n",
       "4       127.461\n",
       "         ...   \n",
       "1498    110.264\n",
       "1499    109.254\n",
       "1500    106.604\n",
       "1501    106.224\n",
       "1502    104.204\n",
       "Name: pressure level, Length: 1503, dtype: float64"
      ]
     },
     "execution_count": 10,
     "metadata": {},
     "output_type": "execute_result"
    }
   ],
   "source": [
    "y"
   ]
  },
  {
   "cell_type": "code",
   "execution_count": 58,
   "id": "3d818932",
   "metadata": {},
   "outputs": [],
   "source": [
    "from sklearn.model_selection import train_test_split\n",
    "\n",
    "X_train,X_test,y_train,y_test=train_test_split(X,y,test_size=0.30)"
   ]
  },
  {
   "cell_type": "code",
   "execution_count": 12,
   "id": "5962b56c",
   "metadata": {},
   "outputs": [
    {
     "data": {
      "text/plain": [
       "249     127.796\n",
       "888     125.390\n",
       "1136    130.947\n",
       "1198    120.766\n",
       "1216    140.987\n",
       "         ...   \n",
       "559     130.777\n",
       "645     131.955\n",
       "935     119.115\n",
       "131     129.552\n",
       "297     118.267\n",
       "Name: pressure level, Length: 1127, dtype: float64"
      ]
     },
     "execution_count": 12,
     "metadata": {},
     "output_type": "execute_result"
    }
   ],
   "source": [
    "y_train"
   ]
  },
  {
   "cell_type": "markdown",
   "id": "5985bf54",
   "metadata": {},
   "source": [
    "# EDA Analysis"
   ]
  },
  {
   "cell_type": "code",
   "execution_count": 83,
   "id": "d20d4573",
   "metadata": {},
   "outputs": [],
   "source": [
    "import seaborn as sns"
   ]
  },
  {
   "cell_type": "code",
   "execution_count": 84,
   "id": "c336e0e2",
   "metadata": {
    "scrolled": false
   },
   "outputs": [
    {
     "data": {
      "text/plain": [
       "<seaborn.axisgrid.PairGrid at 0x294ca376730>"
      ]
     },
     "execution_count": 84,
     "metadata": {},
     "output_type": "execute_result"
    },
    {
     "data": {
      "image/png": "[encoded data removed]",
      "text/plain": [
       "<Figure size 1080x1080 with 42 Axes>"
      ]
     },
     "metadata": {
      "needs_background": "light"
     },
     "output_type": "display_data"
    }
   ],
   "source": [
    "sns.pairplot(df)"
   ]
  },
  {
   "cell_type": "markdown",
   "id": "bbf7d4fe",
   "metadata": {},
   "source": [
    "# if i want to correlation"
   ]
  },
  {
   "cell_type": "code",
   "execution_count": null,
   "id": "13dae02e",
   "metadata": {},
   "outputs": [],
   "source": []
  },
  {
   "cell_type": "code",
   "execution_count": 95,
   "id": "449040ff",
   "metadata": {},
   "outputs": [
    {
     "data": {
      "text/html": [
       "<div>\n",
       "<style scoped>\n",
       "    .dataframe tbody tr th:only-of-type {\n",
       "        vertical-align: middle;\n",
       "    }\n",
       "\n",
       "    .dataframe tbody tr th {\n",
       "        vertical-align: top;\n",
       "    }\n",
       "\n",
       "    .dataframe thead th {\n",
       "        text-align: right;\n",
       "    }\n",
       "</style>\n",
       "<table border=\"1\" class=\"dataframe\">\n",
       "  <thead>\n",
       "    <tr style=\"text-align: right;\">\n",
       "      <th></th>\n",
       "      <th>Frequency</th>\n",
       "      <th>Angle of attack</th>\n",
       "      <th>Chord length</th>\n",
       "      <th>Free-stream</th>\n",
       "      <th>Suction side</th>\n",
       "    </tr>\n",
       "  </thead>\n",
       "  <tbody>\n",
       "    <tr>\n",
       "      <th>Frequency</th>\n",
       "      <td>1.000000</td>\n",
       "      <td>-0.265233</td>\n",
       "      <td>0.000590</td>\n",
       "      <td>0.129269</td>\n",
       "      <td>-0.224666</td>\n",
       "    </tr>\n",
       "    <tr>\n",
       "      <th>Angle of attack</th>\n",
       "      <td>-0.265233</td>\n",
       "      <td>1.000000</td>\n",
       "      <td>-0.504957</td>\n",
       "      <td>0.063167</td>\n",
       "      <td>0.759395</td>\n",
       "    </tr>\n",
       "    <tr>\n",
       "      <th>Chord length</th>\n",
       "      <td>0.000590</td>\n",
       "      <td>-0.504957</td>\n",
       "      <td>1.000000</td>\n",
       "      <td>-0.000333</td>\n",
       "      <td>-0.224745</td>\n",
       "    </tr>\n",
       "    <tr>\n",
       "      <th>Free-stream</th>\n",
       "      <td>0.129269</td>\n",
       "      <td>0.063167</td>\n",
       "      <td>-0.000333</td>\n",
       "      <td>1.000000</td>\n",
       "      <td>0.008567</td>\n",
       "    </tr>\n",
       "    <tr>\n",
       "      <th>Suction side</th>\n",
       "      <td>-0.224666</td>\n",
       "      <td>0.759395</td>\n",
       "      <td>-0.224745</td>\n",
       "      <td>0.008567</td>\n",
       "      <td>1.000000</td>\n",
       "    </tr>\n",
       "  </tbody>\n",
       "</table>\n",
       "</div>"
      ],
      "text/plain": [
       "                 Frequency  Angle of attack  Chord length  Free-stream  \\\n",
       "Frequency         1.000000        -0.265233      0.000590     0.129269   \n",
       "Angle of attack  -0.265233         1.000000     -0.504957     0.063167   \n",
       "Chord length      0.000590        -0.504957      1.000000    -0.000333   \n",
       "Free-stream       0.129269         0.063167     -0.000333     1.000000   \n",
       "Suction side     -0.224666         0.759395     -0.224745     0.008567   \n",
       "\n",
       "                 Suction side  \n",
       "Frequency           -0.224666  \n",
       "Angle of attack      0.759395  \n",
       "Chord length        -0.224745  \n",
       "Free-stream          0.008567  \n",
       "Suction side         1.000000  "
      ]
     },
     "execution_count": 95,
     "metadata": {},
     "output_type": "execute_result"
    }
   ],
   "source": [
    "X_train.corr()"
   ]
  },
  {
   "cell_type": "code",
   "execution_count": 96,
   "id": "ec23eb14",
   "metadata": {},
   "outputs": [],
   "source": [
    "import matplotlib.pyplot as plt"
   ]
  },
  {
   "cell_type": "code",
   "execution_count": null,
   "id": "3c2dcfb4",
   "metadata": {},
   "outputs": [],
   "source": []
  },
  {
   "cell_type": "code",
   "execution_count": 108,
   "id": "2bdc9124",
   "metadata": {},
   "outputs": [
    {
     "data": {
      "text/plain": [
       "<matplotlib.collections.PathCollection at 0x294d05d99d0>"
      ]
     },
     "execution_count": 108,
     "metadata": {},
     "output_type": "execute_result"
    },
    {
     "data": {
      "image/png": "[encoded data removed]",
      "text/plain": [
       "<Figure size 432x288 with 1 Axes>"
      ]
     },
     "metadata": {
      "needs_background": "light"
     },
     "output_type": "display_data"
    }
   ],
   "source": [
    "plt.scatter(X_train['Frequency'],X_train['Free-stream'])"
   ]
  },
  {
   "cell_type": "code",
   "execution_count": 106,
   "id": "b92d1fa2",
   "metadata": {},
   "outputs": [
    {
     "data": {
      "text/plain": [
       "{'whiskers': [<matplotlib.lines.Line2D at 0x294d02a9ca0>,\n",
       "  <matplotlib.lines.Line2D at 0x294d02a9430>],\n",
       " 'caps': [<matplotlib.lines.Line2D at 0x294d02ad190>,\n",
       "  <matplotlib.lines.Line2D at 0x294d02ad640>],\n",
       " 'boxes': [<matplotlib.lines.Line2D at 0x294d02a9340>],\n",
       " 'medians': [<matplotlib.lines.Line2D at 0x294d02ad880>],\n",
       " 'fliers': [<matplotlib.lines.Line2D at 0x294d02add90>],\n",
       " 'means': []}"
      ]
     },
     "execution_count": 106,
     "metadata": {},
     "output_type": "execute_result"
    },
    {
     "data": {
      "image/png": "[encoded data removed]",
      "text/plain": [
       "<Figure size 432x288 with 1 Axes>"
      ]
     },
     "metadata": {
      "needs_background": "light"
     },
     "output_type": "display_data"
    }
   ],
   "source": [
    "plt.boxplot(X_train['Frequency'])"
   ]
  },
  {
   "cell_type": "code",
   "execution_count": 105,
   "id": "70fc3021",
   "metadata": {},
   "outputs": [
    {
     "name": "stderr",
     "output_type": "stream",
     "text": [
      "C:\\Users\\gajula Amar\\anaconda3\\lib\\site-packages\\seaborn\\_decorators.py:36: FutureWarning: Pass the following variable as a keyword arg: x. From version 0.12, the only valid positional argument will be `data`, and passing other arguments without an explicit keyword will result in an error or misinterpretation.\n",
      "  warnings.warn(\n"
     ]
    },
    {
     "data": {
      "text/plain": [
       "<AxesSubplot:xlabel='Frequency'>"
      ]
     },
     "execution_count": 105,
     "metadata": {},
     "output_type": "execute_result"
    },
    {
     "data": {
      "image/png": "[encoded data removed]",
      "text/plain": [
       "<Figure size 432x288 with 1 Axes>"
      ]
     },
     "metadata": {
      "needs_background": "light"
     },
     "output_type": "display_data"
    }
   ],
   "source": [
    "sns.boxenplot(X_train['Frequency'])"
   ]
  },
  {
   "cell_type": "code",
   "execution_count": 104,
   "id": "b45abfb9",
   "metadata": {},
   "outputs": [
    {
     "name": "stderr",
     "output_type": "stream",
     "text": [
      "C:\\Users\\gajula Amar\\anaconda3\\lib\\site-packages\\seaborn\\_decorators.py:36: FutureWarning: Pass the following variable as a keyword arg: x. From version 0.12, the only valid positional argument will be `data`, and passing other arguments without an explicit keyword will result in an error or misinterpretation.\n",
      "  warnings.warn(\n"
     ]
    },
    {
     "data": {
      "text/plain": [
       "<AxesSubplot:xlabel='Frequency'>"
      ]
     },
     "execution_count": 104,
     "metadata": {},
     "output_type": "execute_result"
    },
    {
     "data": {
      "image/png": "[encoded data removed]",
      "text/plain": [
       "<Figure size 432x288 with 1 Axes>"
      ]
     },
     "metadata": {
      "needs_background": "light"
     },
     "output_type": "display_data"
    }
   ],
   "source": [
    "sns.boxplot(X_train['Frequency'])"
   ]
  },
  {
   "cell_type": "code",
   "execution_count": 110,
   "id": "c7ec910a",
   "metadata": {
    "scrolled": true
   },
   "outputs": [
    {
     "data": {
      "image/png": "[encoded data removed]",
      "text/plain": [
       "<Figure size 432x288 with 1 Axes>"
      ]
     },
     "metadata": {
      "needs_background": "light"
     },
     "output_type": "display_data"
    },
    {
     "data": {
      "image/png": "[encoded data removed]",
      "text/plain": [
       "<Figure size 432x288 with 1 Axes>"
      ]
     },
     "metadata": {
      "needs_background": "light"
     },
     "output_type": "display_data"
    },
    {
     "data": {
      "image/png": "[encoded data removed]",
      "text/plain": [
       "<Figure size 432x288 with 1 Axes>"
      ]
     },
     "metadata": {
      "needs_background": "light"
     },
     "output_type": "display_data"
    },
    {
     "data": {
      "image/png": "[encoded data removed]",
      "text/plain": [
       "<Figure size 432x288 with 1 Axes>"
      ]
     },
     "metadata": {
      "needs_background": "light"
     },
     "output_type": "display_data"
    },
    {
     "data": {
      "image/png": "[encoded data removed]",
      "text/plain": [
       "<Figure size 432x288 with 1 Axes>"
      ]
     },
     "metadata": {
      "needs_background": "light"
     },
     "output_type": "display_data"
    }
   ],
   "source": [
    "for i in X_train.columns:\n",
    "    plt.boxplot(X_train[i])\n",
    "    plt.xlabel(i)\n",
    "    plt.title(i)\n",
    "    plt.show()"
   ]
  },
  {
   "cell_type": "code",
   "execution_count": 111,
   "id": "e54b548d",
   "metadata": {},
   "outputs": [
    {
     "name": "stderr",
     "output_type": "stream",
     "text": [
      "C:\\Users\\gajula Amar\\anaconda3\\lib\\site-packages\\seaborn\\_decorators.py:36: FutureWarning: Pass the following variable as a keyword arg: x. From version 0.12, the only valid positional argument will be `data`, and passing other arguments without an explicit keyword will result in an error or misinterpretation.\n",
      "  warnings.warn(\n"
     ]
    },
    {
     "data": {
      "image/png": "[encoded data removed]",
      "text/plain": [
       "<Figure size 432x288 with 1 Axes>"
      ]
     },
     "metadata": {
      "needs_background": "light"
     },
     "output_type": "display_data"
    },
    {
     "name": "stderr",
     "output_type": "stream",
     "text": [
      "C:\\Users\\gajula Amar\\anaconda3\\lib\\site-packages\\seaborn\\_decorators.py:36: FutureWarning: Pass the following variable as a keyword arg: x. From version 0.12, the only valid positional argument will be `data`, and passing other arguments without an explicit keyword will result in an error or misinterpretation.\n",
      "  warnings.warn(\n"
     ]
    },
    {
     "data": {
      "image/png": "[encoded data removed]",
      "text/plain": [
       "<Figure size 432x288 with 1 Axes>"
      ]
     },
     "metadata": {
      "needs_background": "light"
     },
     "output_type": "display_data"
    },
    {
     "name": "stderr",
     "output_type": "stream",
     "text": [
      "C:\\Users\\gajula Amar\\anaconda3\\lib\\site-packages\\seaborn\\_decorators.py:36: FutureWarning: Pass the following variable as a keyword arg: x. From version 0.12, the only valid positional argument will be `data`, and passing other arguments without an explicit keyword will result in an error or misinterpretation.\n",
      "  warnings.warn(\n"
     ]
    },
    {
     "data": {
      "image/png": "[encoded data removed]",
      "text/plain": [
       "<Figure size 432x288 with 1 Axes>"
      ]
     },
     "metadata": {
      "needs_background": "light"
     },
     "output_type": "display_data"
    },
    {
     "name": "stderr",
     "output_type": "stream",
     "text": [
      "C:\\Users\\gajula Amar\\anaconda3\\lib\\site-packages\\seaborn\\_decorators.py:36: FutureWarning: Pass the following variable as a keyword arg: x. From version 0.12, the only valid positional argument will be `data`, and passing other arguments without an explicit keyword will result in an error or misinterpretation.\n",
      "  warnings.warn(\n"
     ]
    },
    {
     "data": {
      "image/png": "[encoded data removed]",
      "text/plain": [
       "<Figure size 432x288 with 1 Axes>"
      ]
     },
     "metadata": {
      "needs_background": "light"
     },
     "output_type": "display_data"
    },
    {
     "name": "stderr",
     "output_type": "stream",
     "text": [
      "C:\\Users\\gajula Amar\\anaconda3\\lib\\site-packages\\seaborn\\_decorators.py:36: FutureWarning: Pass the following variable as a keyword arg: x. From version 0.12, the only valid positional argument will be `data`, and passing other arguments without an explicit keyword will result in an error or misinterpretation.\n",
      "  warnings.warn(\n"
     ]
    },
    {
     "data": {
      "image/png": "[encoded data removed]",
      "text/plain": [
       "<Figure size 432x288 with 1 Axes>"
      ]
     },
     "metadata": {
      "needs_background": "light"
     },
     "output_type": "display_data"
    }
   ],
   "source": [
    "for i in X_train.columns:\n",
    "    sns.boxplot(X_train[i])\n",
    "    plt.xlabel(i)\n",
    "    plt.title(i)\n",
    "    plt.show()"
   ]
  },
  {
   "cell_type": "code",
   "execution_count": 115,
   "id": "36b40ec1",
   "metadata": {},
   "outputs": [
    {
     "name": "stderr",
     "output_type": "stream",
     "text": [
      "C:\\Users\\gajula Amar\\anaconda3\\lib\\site-packages\\seaborn\\_decorators.py:36: FutureWarning: Pass the following variables as keyword args: x, y. From version 0.12, the only valid positional argument will be `data`, and passing other arguments without an explicit keyword will result in an error or misinterpretation.\n",
      "  warnings.warn(\n"
     ]
    },
    {
     "data": {
      "text/plain": [
       "<AxesSubplot:xlabel='Frequency', ylabel='pressure level'>"
      ]
     },
     "execution_count": 115,
     "metadata": {},
     "output_type": "execute_result"
    },
    {
     "data": {
      "image/png": "[encoded data removed]",
      "text/plain": [
       "<Figure size 432x288 with 1 Axes>"
      ]
     },
     "metadata": {
      "needs_background": "light"
     },
     "output_type": "display_data"
    }
   ],
   "source": [
    "sns.scatterplot(X_train['Frequency'],y_train)"
   ]
  },
  {
   "cell_type": "code",
   "execution_count": 128,
   "id": "063bac01",
   "metadata": {},
   "outputs": [
    {
     "name": "stderr",
     "output_type": "stream",
     "text": [
      "C:\\Users\\gajula Amar\\anaconda3\\lib\\site-packages\\seaborn\\_decorators.py:36: FutureWarning: Pass the following variables as keyword args: x, y. From version 0.12, the only valid positional argument will be `data`, and passing other arguments without an explicit keyword will result in an error or misinterpretation.\n",
      "  warnings.warn(\n"
     ]
    },
    {
     "data": {
      "text/plain": [
       "<AxesSubplot:xlabel='Frequency', ylabel='pressure level'>"
      ]
     },
     "execution_count": 128,
     "metadata": {},
     "output_type": "execute_result"
    },
    {
     "data": {
      "image/png": "[encoded data removed]",
      "text/plain": [
       "<Figure size 432x288 with 1 Axes>"
      ]
     },
     "metadata": {
      "needs_background": "light"
     },
     "output_type": "display_data"
    }
   ],
   "source": [
    "sns.scatterplot(X_train['Frequency'],y_train)"
   ]
  },
  {
   "cell_type": "code",
   "execution_count": 127,
   "id": "5f7c0d5e",
   "metadata": {},
   "outputs": [
    {
     "data": {
      "text/plain": [
       "<matplotlib.collections.PathCollection at 0x294d3b212e0>"
      ]
     },
     "execution_count": 127,
     "metadata": {},
     "output_type": "execute_result"
    },
    {
     "data": {
      "image/png": "[encoded data removed]",
      "text/plain": [
       "<Figure size 432x288 with 1 Axes>"
      ]
     },
     "metadata": {
      "needs_background": "light"
     },
     "output_type": "display_data"
    }
   ],
   "source": [
    "plt.scatter(X_train['Frequency'],y_train)"
   ]
  },
  {
   "cell_type": "code",
   "execution_count": 129,
   "id": "81ad6a02",
   "metadata": {
    "scrolled": true
   },
   "outputs": [
    {
     "name": "stderr",
     "output_type": "stream",
     "text": [
      "C:\\Users\\gajula Amar\\anaconda3\\lib\\site-packages\\seaborn\\_decorators.py:36: FutureWarning: Pass the following variable as a keyword arg: x. From version 0.12, the only valid positional argument will be `data`, and passing other arguments without an explicit keyword will result in an error or misinterpretation.\n",
      "  warnings.warn(\n"
     ]
    },
    {
     "data": {
      "text/plain": [
       "<AxesSubplot:xlabel='pressure level'>"
      ]
     },
     "execution_count": 129,
     "metadata": {},
     "output_type": "execute_result"
    },
    {
     "data": {
      "image/png": "[encoded data removed]",
      "text/plain": [
       "<Figure size 432x288 with 1 Axes>"
      ]
     },
     "metadata": {
      "needs_background": "light"
     },
     "output_type": "display_data"
    }
   ],
   "source": [
    "sns.boxplot(y_train)"
   ]
  },
  {
   "cell_type": "code",
   "execution_count": null,
   "id": "932b2c8e",
   "metadata": {},
   "outputs": [],
   "source": []
  },
  {
   "cell_type": "code",
   "execution_count": null,
   "id": "8f039b81",
   "metadata": {},
   "outputs": [],
   "source": []
  },
  {
   "cell_type": "code",
   "execution_count": 21,
   "id": "1f92d15c",
   "metadata": {},
   "outputs": [
    {
     "data": {
      "text/plain": [
       "LinearRegression()"
      ]
     },
     "execution_count": 21,
     "metadata": {},
     "output_type": "execute_result"
    }
   ],
   "source": [
    "from sklearn.linear_model import LinearRegression\n",
    "regressor = LinearRegression()\n",
    "regressor.fit(X_train,y_train)"
   ]
  },
  {
   "cell_type": "code",
   "execution_count": 22,
   "id": "cfb245c9",
   "metadata": {
    "scrolled": true
   },
   "outputs": [],
   "source": [
    "pred = regressor.predict(X_test)"
   ]
  },
  {
   "cell_type": "code",
   "execution_count": 23,
   "id": "b8853958",
   "metadata": {},
   "outputs": [],
   "source": [
    "from sklearn.metrics import r2_score"
   ]
  },
  {
   "cell_type": "code",
   "execution_count": 24,
   "id": "fb5bc79d",
   "metadata": {},
   "outputs": [
    {
     "data": {
      "text/plain": [
       "0.08718589349590466"
      ]
     },
     "execution_count": 24,
     "metadata": {},
     "output_type": "execute_result"
    }
   ],
   "source": [
    "r2_score(pred,y_test)"
   ]
  },
  {
   "cell_type": "code",
   "execution_count": 25,
   "id": "df88b5c8",
   "metadata": {},
   "outputs": [
    {
     "ename": "NameError",
     "evalue": "name 'sns' is not defined",
     "output_type": "error",
     "traceback": [
      "\u001b[1;31m---------------------------------------------------------------------------\u001b[0m",
      "\u001b[1;31mNameError\u001b[0m                                 Traceback (most recent call last)",
      "\u001b[1;32mC:\\conda_tmp/ipykernel_12072/1579427756.py\u001b[0m in \u001b[0;36m<cell line: 1>\u001b[1;34m()\u001b[0m\n\u001b[1;32m----> 1\u001b[1;33m \u001b[0msns\u001b[0m\u001b[1;33m.\u001b[0m\u001b[0mdisplot\u001b[0m\u001b[1;33m(\u001b[0m\u001b[0my_test\u001b[0m\u001b[1;33m-\u001b[0m\u001b[0mpred\u001b[0m\u001b[1;33m)\u001b[0m\u001b[1;33m\u001b[0m\u001b[1;33m\u001b[0m\u001b[0m\n\u001b[0m",
      "\u001b[1;31mNameError\u001b[0m: name 'sns' is not defined"
     ]
    }
   ],
   "source": [
    "sns.displot(y_test-pred)"
   ]
  },
  {
   "cell_type": "code",
   "execution_count": 137,
   "id": "f06a4d9e",
   "metadata": {
    "scrolled": true
   },
   "outputs": [
    {
     "data": {
      "text/plain": [
       "<seaborn.axisgrid.FacetGrid at 0x294d237a7c0>"
      ]
     },
     "execution_count": 137,
     "metadata": {},
     "output_type": "execute_result"
    },
    {
     "data": {
      "image/png": "[encoded data removed]",
      "text/plain": [
       "<Figure size 360x360 with 1 Axes>"
      ]
     },
     "metadata": {
      "needs_background": "light"
     },
     "output_type": "display_data"
    }
   ],
   "source": [
    "sns.displot(y_test-pred,kind='kde')"
   ]
  },
  {
   "cell_type": "code",
   "execution_count": 26,
   "id": "274cf3d6",
   "metadata": {},
   "outputs": [
    {
     "data": {
      "text/plain": [
       "GridSearchCV(cv=5, estimator=Ridge(),\n",
       "             param_grid={'alpha': [1e-15, 1e-10, 1e-08, 0.001, 0.01, 1, 5, 10,\n",
       "                                   20, 30, 35, 40, 45, 50, 55, 100]},\n",
       "             scoring='neg_mean_squared_error')"
      ]
     },
     "execution_count": 26,
     "metadata": {},
     "output_type": "execute_result"
    }
   ],
   "source": [
    "from sklearn.linear_model import Ridge\n",
    "from sklearn.model_selection import GridSearchCV\n",
    "\n",
    "ridge=Ridge()\n",
    "parameters={'alpha':[1e-15,1e-10,1e-8,1e-3,1e-2,1,5,10,20,30,35,40,45,50,55,100]}\n",
    "ridge_regressor=GridSearchCV(ridge,parameters,scoring='neg_mean_squared_error',cv=5)\n",
    "\n",
    "ridge_regressor.fit(X,y)\n"
   ]
  },
  {
   "cell_type": "code",
   "execution_count": 27,
   "id": "4d88a96f",
   "metadata": {},
   "outputs": [
    {
     "data": {
      "text/plain": [
       "0.07856368168343209"
      ]
     },
     "execution_count": 27,
     "metadata": {},
     "output_type": "execute_result"
    }
   ],
   "source": [
    "rdgpred=ridge_regressor.predict(X_test)\n",
    "r2_score(rdgpred,y_test)"
   ]
  },
  {
   "cell_type": "code",
   "execution_count": null,
   "id": "86eeca53",
   "metadata": {},
   "outputs": [],
   "source": []
  },
  {
   "cell_type": "code",
   "execution_count": null,
   "id": "7b9357db",
   "metadata": {},
   "outputs": [],
   "source": []
  },
  {
   "cell_type": "code",
   "execution_count": null,
   "id": "3f5ae910",
   "metadata": {},
   "outputs": [],
   "source": []
  },
  {
   "cell_type": "code",
   "execution_count": 29,
   "id": "4a625679",
   "metadata": {},
   "outputs": [
    {
     "name": "stderr",
     "output_type": "stream",
     "text": [
      "C:\\Users\\gajula Amar\\anaconda3\\lib\\site-packages\\sklearn\\linear_model\\_coordinate_descent.py:530: ConvergenceWarning: Objective did not converge. You might want to increase the number of iterations. Duality gap: 14157.805664499963, tolerance: 5.837267824214975\n",
      "  model = cd_fast.enet_coordinate_descent(\n",
      "C:\\Users\\gajula Amar\\anaconda3\\lib\\site-packages\\sklearn\\linear_model\\_coordinate_descent.py:530: ConvergenceWarning: Objective did not converge. You might want to increase the number of iterations. Duality gap: 13868.919541343592, tolerance: 5.453631819615308\n",
      "  model = cd_fast.enet_coordinate_descent(\n",
      "C:\\Users\\gajula Amar\\anaconda3\\lib\\site-packages\\sklearn\\linear_model\\_coordinate_descent.py:530: ConvergenceWarning: Objective did not converge. You might want to increase the number of iterations. Duality gap: 13546.846389225922, tolerance: 5.4214056751073985\n",
      "  model = cd_fast.enet_coordinate_descent(\n"
     ]
    },
    {
     "name": "stdout",
     "output_type": "stream",
     "text": [
      "{'alpha': 1e-08}\n",
      "-27.18862317237341\n"
     ]
    }
   ],
   "source": [
    "from sklearn.linear_model import Lasso\n",
    "from sklearn.model_selection import GridSearchCV\n",
    "lasso=Lasso()\n",
    "parameters={'alpha':[1e-15,1e-10,1e-8,1e-3,1e-2,1,5,10,20,30,35,40,45,50,55,100]}\n",
    "lasso_regressor=GridSearchCV(lasso,parameters,scoring='neg_mean_squared_error',cv=5)\n",
    "\n",
    "lasso_regressor.fit(X,y) \n",
    "print(lasso_regressor.best_params_)\n",
    "print(lasso_regressor.best_score_)"
   ]
  },
  {
   "cell_type": "code",
   "execution_count": 30,
   "id": "c98429be",
   "metadata": {},
   "outputs": [],
   "source": [
    "prediction_lasso = lasso_regressor.predict(X_test)\n",
    "prediction_ridge = ridge_regressor.predict(X_test)"
   ]
  },
  {
   "cell_type": "code",
   "execution_count": null,
   "id": "85371381",
   "metadata": {},
   "outputs": [],
   "source": []
  },
  {
   "cell_type": "code",
   "execution_count": 34,
   "id": "886c27f3",
   "metadata": {},
   "outputs": [
    {
     "data": {
      "text/plain": [
       "0.08937278065757337"
      ]
     },
     "execution_count": 34,
     "metadata": {},
     "output_type": "execute_result"
    }
   ],
   "source": [
    "r2_score(prediction_lasso,y_test)"
   ]
  },
  {
   "cell_type": "code",
   "execution_count": 35,
   "id": "33ec4163",
   "metadata": {},
   "outputs": [
    {
     "data": {
      "text/plain": [
       "0.07856368168343209"
      ]
     },
     "execution_count": 35,
     "metadata": {},
     "output_type": "execute_result"
    }
   ],
   "source": [
    "r2_score(prediction_ridge,y_test)"
   ]
  },
  {
   "cell_type": "code",
   "execution_count": 36,
   "id": "32017863",
   "metadata": {},
   "outputs": [
    {
     "data": {
      "text/plain": [
       "0.5135623421382797"
      ]
     },
     "execution_count": 36,
     "metadata": {},
     "output_type": "execute_result"
    }
   ],
   "source": [
    "r2_score(y_test,prediction_lasso)\n"
   ]
  },
  {
   "cell_type": "code",
   "execution_count": 37,
   "id": "dcdd9101",
   "metadata": {},
   "outputs": [
    {
     "data": {
      "text/plain": [
       "0.5132875468087565"
      ]
     },
     "execution_count": 37,
     "metadata": {},
     "output_type": "execute_result"
    }
   ],
   "source": [
    "r2_score(y_test,prediction_ridge)"
   ]
  },
  {
   "cell_type": "code",
   "execution_count": 143,
   "id": "5090b286",
   "metadata": {},
   "outputs": [
    {
     "name": "stdout",
     "output_type": "stream",
     "text": [
      "-27.188623343053365\n"
     ]
    }
   ],
   "source": [
    "from sklearn.model_selection import cross_val_score\n",
    "from sklearn.linear_model import LinearRegression\n",
    "\n",
    "lin_regressor=LinearRegression()\n",
    "mse=cross_val_score(lin_regressor,X,y,scoring='neg_mean_squared_error',cv=5)\n",
    "\n",
    "\n",
    "\n",
    "mean_mse=np.mean(mse)\n",
    "print(mean_mse)"
   ]
  },
  {
   "cell_type": "code",
   "execution_count": 144,
   "id": "1515a323",
   "metadata": {},
   "outputs": [],
   "source": [
    "model = LinearRegression()\n",
    "\n",
    "model.fit(X_train,y_train)\n",
    "\n",
    "salary_pred = model.predict(X_test)\n"
   ]
  },
  {
   "cell_type": "code",
   "execution_count": 145,
   "id": "89396edb",
   "metadata": {},
   "outputs": [],
   "source": [
    "from sklearn.metrics import r2_score"
   ]
  },
  {
   "cell_type": "code",
   "execution_count": 146,
   "id": "74399104",
   "metadata": {},
   "outputs": [
    {
     "data": {
      "text/plain": [
       "0.44118570864922557"
      ]
     },
     "execution_count": 146,
     "metadata": {},
     "output_type": "execute_result"
    }
   ],
   "source": [
    "r2_score(y_test,salary_pred)"
   ]
  },
  {
   "cell_type": "code",
   "execution_count": null,
   "id": "6d6396b8",
   "metadata": {},
   "outputs": [],
   "source": []
  },
  {
   "cell_type": "code",
   "execution_count": 169,
   "id": "a8f7be3e",
   "metadata": {},
   "outputs": [
    {
     "data": {
      "text/plain": [
       "SVR()"
      ]
     },
     "execution_count": 169,
     "metadata": {},
     "output_type": "execute_result"
    }
   ],
   "source": [
    "from sklearn.svm import SVR\n",
    "rgrsr = SVR()\n",
    "\n",
    "rgrsr.fit(X_train,y_train)"
   ]
  },
  {
   "cell_type": "code",
   "execution_count": 170,
   "id": "f6cb60f4",
   "metadata": {},
   "outputs": [],
   "source": [
    "svr_pred=rgrsr.predict(X_test)"
   ]
  },
  {
   "cell_type": "code",
   "execution_count": 171,
   "id": "f7a993c2",
   "metadata": {},
   "outputs": [
    {
     "data": {
      "text/plain": [
       "0.15961265742955877"
      ]
     },
     "execution_count": 171,
     "metadata": {},
     "output_type": "execute_result"
    }
   ],
   "source": [
    "r2_score(y_test,svr_pred)"
   ]
  },
  {
   "cell_type": "code",
   "execution_count": 272,
   "id": "e94df50f",
   "metadata": {},
   "outputs": [],
   "source": [
    "from sklearn.svm import SVR\n",
    "\n",
    "classifier = SVR(kernel=\"poly\")\n",
    "classifier.fit(X_train, y_train)\n",
    "y_pred = classifier.predict(X_test)\n"
   ]
  },
  {
   "cell_type": "code",
   "execution_count": 273,
   "id": "488e8670",
   "metadata": {},
   "outputs": [
    {
     "data": {
      "text/plain": [
       "0.004697945966413597"
      ]
     },
     "execution_count": 273,
     "metadata": {},
     "output_type": "execute_result"
    }
   ],
   "source": [
    "r2_score(y_test, y_pred)"
   ]
  },
  {
   "cell_type": "code",
   "execution_count": null,
   "id": "66bdf4b5",
   "metadata": {},
   "outputs": [],
   "source": []
  },
  {
   "cell_type": "code",
   "execution_count": null,
   "id": "208f6184",
   "metadata": {},
   "outputs": [],
   "source": []
  },
  {
   "cell_type": "code",
   "execution_count": 13,
   "id": "febfb68f",
   "metadata": {},
   "outputs": [
    {
     "data": {
      "text/plain": [
       "DecisionTreeRegressor()"
      ]
     },
     "execution_count": 13,
     "metadata": {},
     "output_type": "execute_result"
    }
   ],
   "source": [
    "from sklearn.tree import DecisionTreeRegressor\n",
    "classifier = DecisionTreeRegressor(criterion='mse')\n",
    "classifier.fit(X_train,y_train)"
   ]
  },
  {
   "cell_type": "code",
   "execution_count": null,
   "id": "ede15a7a",
   "metadata": {},
   "outputs": [],
   "source": []
  },
  {
   "cell_type": "code",
   "execution_count": 59,
   "id": "d73643a2",
   "metadata": {},
   "outputs": [
    {
     "data": {
      "text/plain": [
       "DecisionTreeRegressor()"
      ]
     },
     "execution_count": 59,
     "metadata": {},
     "output_type": "execute_result"
    }
   ],
   "source": [
    "from sklearn.tree import DecisionTreeRegressor\n",
    "classifier = DecisionTreeRegressor(criterion='mse')\n",
    "classifier.fit(X_train,y_train)"
   ]
  },
  {
   "cell_type": "code",
   "execution_count": 60,
   "id": "a05d9db0",
   "metadata": {},
   "outputs": [],
   "source": [
    "d_pred=classifier.predict(X_test)"
   ]
  },
  {
   "cell_type": "code",
   "execution_count": 61,
   "id": "20cca447",
   "metadata": {},
   "outputs": [
    {
     "data": {
      "text/plain": [
       "0.8395349052193148"
      ]
     },
     "execution_count": 61,
     "metadata": {},
     "output_type": "execute_result"
    }
   ],
   "source": [
    "from sklearn.metrics import r2_score\n",
    "r2_score(y_test,d_pred)"
   ]
  },
  {
   "cell_type": "markdown",
   "id": "d160615c",
   "metadata": {},
   "source": [
    "# Creatinting pickle file"
   ]
  },
  {
   "cell_type": "code",
   "execution_count": 62,
   "id": "3245429c",
   "metadata": {},
   "outputs": [],
   "source": [
    "import pickle\n",
    "pickle.dump(classifier,open('model.pkl','wb'))\n",
    "\n",
    "#model_1.pkl this \"pickle\" file is a serilized maner format so that \n",
    "# when it is \"serilized format\" it will be able load and basiically\n",
    "# exicute in the \"API\" very easly, its hardly in BYTES if we store\n",
    "# it in exsel or something it could be a large"
   ]
  },
  {
   "cell_type": "code",
   "execution_count": 63,
   "id": "a82188a8",
   "metadata": {},
   "outputs": [
    {
     "data": {
      "text/html": [
       "<div>\n",
       "<style scoped>\n",
       "    .dataframe tbody tr th:only-of-type {\n",
       "        vertical-align: middle;\n",
       "    }\n",
       "\n",
       "    .dataframe tbody tr th {\n",
       "        vertical-align: top;\n",
       "    }\n",
       "\n",
       "    .dataframe thead th {\n",
       "        text-align: right;\n",
       "    }\n",
       "</style>\n",
       "<table border=\"1\" class=\"dataframe\">\n",
       "  <thead>\n",
       "    <tr style=\"text-align: right;\">\n",
       "      <th></th>\n",
       "      <th>Frequency</th>\n",
       "      <th>Angle of attack</th>\n",
       "      <th>Chord length</th>\n",
       "      <th>Free-stream</th>\n",
       "      <th>Suction side</th>\n",
       "    </tr>\n",
       "  </thead>\n",
       "  <tbody>\n",
       "    <tr>\n",
       "      <th>720</th>\n",
       "      <td>2500</td>\n",
       "      <td>12.6</td>\n",
       "      <td>0.1524</td>\n",
       "      <td>39.6</td>\n",
       "      <td>0.058411</td>\n",
       "    </tr>\n",
       "    <tr>\n",
       "      <th>157</th>\n",
       "      <td>315</td>\n",
       "      <td>4.0</td>\n",
       "      <td>0.3048</td>\n",
       "      <td>71.3</td>\n",
       "      <td>0.004978</td>\n",
       "    </tr>\n",
       "    <tr>\n",
       "      <th>368</th>\n",
       "      <td>2500</td>\n",
       "      <td>5.3</td>\n",
       "      <td>0.2286</td>\n",
       "      <td>71.3</td>\n",
       "      <td>0.005194</td>\n",
       "    </tr>\n",
       "    <tr>\n",
       "      <th>1197</th>\n",
       "      <td>315</td>\n",
       "      <td>17.4</td>\n",
       "      <td>0.0254</td>\n",
       "      <td>31.7</td>\n",
       "      <td>0.017663</td>\n",
       "    </tr>\n",
       "    <tr>\n",
       "      <th>1172</th>\n",
       "      <td>1250</td>\n",
       "      <td>17.4</td>\n",
       "      <td>0.0254</td>\n",
       "      <td>55.5</td>\n",
       "      <td>0.016571</td>\n",
       "    </tr>\n",
       "    <tr>\n",
       "      <th>...</th>\n",
       "      <td>...</td>\n",
       "      <td>...</td>\n",
       "      <td>...</td>\n",
       "      <td>...</td>\n",
       "      <td>...</td>\n",
       "    </tr>\n",
       "    <tr>\n",
       "      <th>985</th>\n",
       "      <td>2500</td>\n",
       "      <td>0.0</td>\n",
       "      <td>0.0254</td>\n",
       "      <td>39.6</td>\n",
       "      <td>0.000428</td>\n",
       "    </tr>\n",
       "    <tr>\n",
       "      <th>1013</th>\n",
       "      <td>8000</td>\n",
       "      <td>4.8</td>\n",
       "      <td>0.0254</td>\n",
       "      <td>71.3</td>\n",
       "      <td>0.000849</td>\n",
       "    </tr>\n",
       "    <tr>\n",
       "      <th>1009</th>\n",
       "      <td>3150</td>\n",
       "      <td>4.8</td>\n",
       "      <td>0.0254</td>\n",
       "      <td>71.3</td>\n",
       "      <td>0.000849</td>\n",
       "    </tr>\n",
       "    <tr>\n",
       "      <th>643</th>\n",
       "      <td>5000</td>\n",
       "      <td>9.9</td>\n",
       "      <td>0.1524</td>\n",
       "      <td>71.3</td>\n",
       "      <td>0.019300</td>\n",
       "    </tr>\n",
       "    <tr>\n",
       "      <th>1248</th>\n",
       "      <td>4000</td>\n",
       "      <td>0.0</td>\n",
       "      <td>0.1016</td>\n",
       "      <td>71.3</td>\n",
       "      <td>0.001211</td>\n",
       "    </tr>\n",
       "  </tbody>\n",
       "</table>\n",
       "<p>451 rows × 5 columns</p>\n",
       "</div>"
      ],
      "text/plain": [
       "      Frequency  Angle of attack  Chord length  Free-stream  Suction side\n",
       "720        2500             12.6        0.1524         39.6      0.058411\n",
       "157         315              4.0        0.3048         71.3      0.004978\n",
       "368        2500              5.3        0.2286         71.3      0.005194\n",
       "1197        315             17.4        0.0254         31.7      0.017663\n",
       "1172       1250             17.4        0.0254         55.5      0.016571\n",
       "...         ...              ...           ...          ...           ...\n",
       "985        2500              0.0        0.0254         39.6      0.000428\n",
       "1013       8000              4.8        0.0254         71.3      0.000849\n",
       "1009       3150              4.8        0.0254         71.3      0.000849\n",
       "643        5000              9.9        0.1524         71.3      0.019300\n",
       "1248       4000              0.0        0.1016         71.3      0.001211\n",
       "\n",
       "[451 rows x 5 columns]"
      ]
     },
     "execution_count": 63,
     "metadata": {},
     "output_type": "execute_result"
    }
   ],
   "source": [
    "X_test"
   ]
  },
  {
   "cell_type": "markdown",
   "id": "c006fb91",
   "metadata": {},
   "source": [
    "# loading/reading pickle file"
   ]
  },
  {
   "cell_type": "code",
   "execution_count": 67,
   "id": "215c81c0",
   "metadata": {},
   "outputs": [],
   "source": [
    "import pickle\n",
    "pickle_model = pickle.load(open('model.pkl','rb'))"
   ]
  },
  {
   "cell_type": "code",
   "execution_count": 68,
   "id": "bb92f2c2",
   "metadata": {
    "scrolled": true
   },
   "outputs": [
    {
     "data": {
      "text/plain": [
       "array([109.52 , 127.564, 123.775, 116.146, 126.356, 128.36 , 128.829,\n",
       "       128.723, 118.941, 125.045, 120.513, 131.568, 121.059, 126.486,\n",
       "       135.953, 134.478, 128.927, 110.894, 129.567, 123.689, 130.206,\n",
       "       119.639, 132.358, 127.314, 129.144, 111.135, 121.306, 122.779,\n",
       "       130.898, 116.924, 125.824, 131.656, 129.148, 128.718, 128.825,\n",
       "       133.311, 128.829, 127.122, 121.664, 120.534, 115.679, 127.314,\n",
       "       126.116, 113.796, 123.705, 117.911, 121.397, 124.512, 125.992,\n",
       "       123.537, 128.423, 127.676, 120.553, 129.633, 126.944, 120.534,\n",
       "       129.095, 128.952, 125.581, 108.407, 134.625, 117.809, 136.826,\n",
       "       126.471, 128.246, 120.509, 138.274, 131.346, 126.267, 129.308,\n",
       "       119.343, 120.657, 121.527, 130.156, 127.614, 126.838, 120.034,\n",
       "       115.969, 117.478, 129.973, 130.725, 125.867, 131.725, 117.087,\n",
       "       123.305, 130.588, 128.416, 112.848, 110.224, 127.614, 130.156,\n",
       "       109.222, 129.8  , 125.715, 119.535, 120.981, 128.265, 139.918,\n",
       "       125.941, 131.966, 112.699, 133.48 , 117.996, 129.68 , 118.955,\n",
       "       125.809, 121.059, 124.685, 123.623, 119.632, 129.038, 125.045,\n",
       "       128.562, 124.364, 125.555, 133.042, 128.633, 125.571, 127.122,\n",
       "       126.752, 114.634, 128.679, 136.384, 131.31 , 131.434, 133.79 ,\n",
       "       119.806, 125.452, 111.534, 128.805, 117.478, 131.471, 120.851,\n",
       "       112.639, 133.235, 125.398, 128.2  , 121.514, 128.74 , 125.261,\n",
       "       120.532, 116.184, 133.071, 126.59 , 136.678, 117.386, 121.851,\n",
       "       125.589, 119.639, 125.941, 117.911, 116.723, 128.381, 124.318,\n",
       "       133.728, 121.284, 114.779, 128.423, 127.581, 121.93 , 111.35 ,\n",
       "       129.934, 120.189, 115.679, 118.922, 125.499, 133.207, 110.555,\n",
       "       117.134, 115.466, 119.598, 117.724, 131.971, 132.251, 119.343,\n",
       "       137.813, 123.894, 125.802, 132.918, 132.357, 104.204, 127.314,\n",
       "       127.315, 134.11 , 136.384, 126.933, 113.733, 135.938, 123.514,\n",
       "       128.809, 119.646, 129.889, 137.026, 130.073, 129.038, 128.169,\n",
       "       124.45 , 128.401, 130.898, 131.205, 121.146, 106.604, 123.988,\n",
       "       126.616, 132.43 , 126.805, 114.418, 132.301, 120.147, 130.893,\n",
       "       127.614, 130.697, 128.723, 113.492, 109.222, 122.79 , 113.055,\n",
       "       120.569, 114.404, 109.52 , 119.777, 132.127, 119.806, 112.93 ,\n",
       "       120.015, 117.478, 117.785, 125.824, 128.119, 117.11 , 128.805,\n",
       "       129.038, 112.688, 128.698, 128.246, 130.073, 125.726, 124.748,\n",
       "       110.868, 129.653, 116.559, 123.742, 120.575, 111.534, 127.634,\n",
       "       119.854, 124.439, 126.863, 126.565, 122.044, 133.756, 134.152,\n",
       "       134.34 , 124.355, 130.392, 123.455, 119.639, 127.634, 125.941,\n",
       "       129.653, 132.796, 127.117, 108.034, 122.782, 117.253, 111.459,\n",
       "       130.065, 129.633, 122.371, 118.922, 114.9  , 128.312, 133.587,\n",
       "       123.303, 118.618, 127.676, 136.414, 136.678, 127.314, 129.579,\n",
       "       137.026, 132.395, 125.724, 128.718, 119.115, 114.67 , 114.729,\n",
       "       116.724, 124.426, 128.723, 104.5  , 124.904, 134.938, 123.453,\n",
       "       124.987, 127.246, 132.886, 127.688, 122.893, 129.937, 112.241,\n",
       "       128.723, 130.964, 129.002, 127.233, 120.233, 132.898, 122.648,\n",
       "       128.492, 125.951, 125.045, 120.497, 135.484, 132.898, 115.085,\n",
       "       130.829, 116.677, 115.085, 120.981, 121.933, 131.889, 127.696,\n",
       "       125.998, 136.023, 125.045, 125.555, 130.898, 132.011, 130.908,\n",
       "       124.852, 126.267, 134.987, 134.43 , 130.558, 135.164, 123.839,\n",
       "       127.564, 133.553, 136.798, 120.136, 128.086, 134.226, 134.034,\n",
       "       135.329, 132.039, 127.122, 112.768, 110.894, 126.021, 115.085,\n",
       "       128.723, 133.201, 113.144, 126.097, 127.7  , 115.215, 111.534,\n",
       "       119.343, 126.944, 125.717, 125.728, 122.938, 115.659, 123.82 ,\n",
       "       128.119, 122.527, 128.423, 120.229, 128.29 , 128.878, 120.034,\n",
       "       124.987, 131.346, 120.654, 127.314, 139.918, 126.17 , 134.022,\n",
       "       130.123, 120.229, 121.118, 126.54 , 126.807, 136.414, 128.354,\n",
       "       129.33 , 122.088, 121.225, 127.358, 123.207, 128.306, 132.898,\n",
       "       116.146, 133.201, 128.952, 132.588, 116.128, 122.175, 122.232,\n",
       "       124.233, 129.134, 136.384, 122.397, 108.407, 113.129, 119.159,\n",
       "       136.023, 116.417, 128.401, 122.086, 110.447, 130.748, 117.957,\n",
       "       119.535, 131.43 , 126.291, 127.73 , 126.54 , 131.362, 126.5  ,\n",
       "       119.04 , 120.569, 120.243, 133.048, 137.047, 130.477, 117.087,\n",
       "       122.205, 124.214, 128.562, 126.086, 126.267, 127.465, 136.826,\n",
       "       136.384, 120.229, 128.562, 115.461, 130.869, 114.042, 133.311,\n",
       "       126.413, 131.542, 122.779, 133.79 , 120.766, 134.938, 134.498,\n",
       "       135.07 , 113.144, 130.795])"
      ]
     },
     "execution_count": 68,
     "metadata": {},
     "output_type": "execute_result"
    }
   ],
   "source": [
    "pred=pickle_model.predict(X_test)\n",
    "\n",
    "# this is for \"batch of inputs\" that we giving to pickle model file\n",
    "# b-coz in X_test we have so many features we are not passing\n",
    "# only one feature here so that its a \"batch of inputs\"\n",
    "pred"
   ]
  },
  {
   "cell_type": "code",
   "execution_count": 66,
   "id": "5b6272c3",
   "metadata": {},
   "outputs": [
    {
     "data": {
      "text/plain": [
       "0.8395349052193148"
      ]
     },
     "execution_count": 66,
     "metadata": {},
     "output_type": "execute_result"
    }
   ],
   "source": [
    "r2_score(y_test,pred)"
   ]
  },
  {
   "cell_type": "code",
   "execution_count": 71,
   "id": "e2af30fe",
   "metadata": {},
   "outputs": [
    {
     "data": {
      "text/html": [
       "<div>\n",
       "<style scoped>\n",
       "    .dataframe tbody tr th:only-of-type {\n",
       "        vertical-align: middle;\n",
       "    }\n",
       "\n",
       "    .dataframe tbody tr th {\n",
       "        vertical-align: top;\n",
       "    }\n",
       "\n",
       "    .dataframe thead th {\n",
       "        text-align: right;\n",
       "    }\n",
       "</style>\n",
       "<table border=\"1\" class=\"dataframe\">\n",
       "  <thead>\n",
       "    <tr style=\"text-align: right;\">\n",
       "      <th></th>\n",
       "      <th>Frequency</th>\n",
       "      <th>Angle of attack</th>\n",
       "      <th>Chord length</th>\n",
       "      <th>Free-stream</th>\n",
       "      <th>Suction side</th>\n",
       "    </tr>\n",
       "  </thead>\n",
       "  <tbody>\n",
       "    <tr>\n",
       "      <th>1481</th>\n",
       "      <td>1250</td>\n",
       "      <td>15.6</td>\n",
       "      <td>0.1016</td>\n",
       "      <td>71.3</td>\n",
       "      <td>0.043726</td>\n",
       "    </tr>\n",
       "    <tr>\n",
       "      <th>1192</th>\n",
       "      <td>3150</td>\n",
       "      <td>17.4</td>\n",
       "      <td>0.0254</td>\n",
       "      <td>39.6</td>\n",
       "      <td>0.017221</td>\n",
       "    </tr>\n",
       "    <tr>\n",
       "      <th>511</th>\n",
       "      <td>630</td>\n",
       "      <td>2.7</td>\n",
       "      <td>0.1524</td>\n",
       "      <td>71.3</td>\n",
       "      <td>0.002439</td>\n",
       "    </tr>\n",
       "    <tr>\n",
       "      <th>450</th>\n",
       "      <td>3150</td>\n",
       "      <td>7.3</td>\n",
       "      <td>0.2286</td>\n",
       "      <td>31.7</td>\n",
       "      <td>0.013267</td>\n",
       "    </tr>\n",
       "    <tr>\n",
       "      <th>1433</th>\n",
       "      <td>1250</td>\n",
       "      <td>12.3</td>\n",
       "      <td>0.1016</td>\n",
       "      <td>55.5</td>\n",
       "      <td>0.036823</td>\n",
       "    </tr>\n",
       "    <tr>\n",
       "      <th>...</th>\n",
       "      <td>...</td>\n",
       "      <td>...</td>\n",
       "      <td>...</td>\n",
       "      <td>...</td>\n",
       "      <td>...</td>\n",
       "    </tr>\n",
       "    <tr>\n",
       "      <th>111</th>\n",
       "      <td>10000</td>\n",
       "      <td>3.0</td>\n",
       "      <td>0.3048</td>\n",
       "      <td>71.3</td>\n",
       "      <td>0.004257</td>\n",
       "    </tr>\n",
       "    <tr>\n",
       "      <th>262</th>\n",
       "      <td>1000</td>\n",
       "      <td>2.0</td>\n",
       "      <td>0.2286</td>\n",
       "      <td>55.5</td>\n",
       "      <td>0.003135</td>\n",
       "    </tr>\n",
       "    <tr>\n",
       "      <th>570</th>\n",
       "      <td>500</td>\n",
       "      <td>5.4</td>\n",
       "      <td>0.1524</td>\n",
       "      <td>39.6</td>\n",
       "      <td>0.004850</td>\n",
       "    </tr>\n",
       "    <tr>\n",
       "      <th>868</th>\n",
       "      <td>4000</td>\n",
       "      <td>11.2</td>\n",
       "      <td>0.0508</td>\n",
       "      <td>39.6</td>\n",
       "      <td>0.015048</td>\n",
       "    </tr>\n",
       "    <tr>\n",
       "      <th>606</th>\n",
       "      <td>3150</td>\n",
       "      <td>7.2</td>\n",
       "      <td>0.1524</td>\n",
       "      <td>71.3</td>\n",
       "      <td>0.007520</td>\n",
       "    </tr>\n",
       "  </tbody>\n",
       "</table>\n",
       "<p>1052 rows × 5 columns</p>\n",
       "</div>"
      ],
      "text/plain": [
       "      Frequency  Angle of attack  Chord length  Free-stream  Suction side\n",
       "1481       1250             15.6        0.1016         71.3      0.043726\n",
       "1192       3150             17.4        0.0254         39.6      0.017221\n",
       "511         630              2.7        0.1524         71.3      0.002439\n",
       "450        3150              7.3        0.2286         31.7      0.013267\n",
       "1433       1250             12.3        0.1016         55.5      0.036823\n",
       "...         ...              ...           ...          ...           ...\n",
       "111       10000              3.0        0.3048         71.3      0.004257\n",
       "262        1000              2.0        0.2286         55.5      0.003135\n",
       "570         500              5.4        0.1524         39.6      0.004850\n",
       "868        4000             11.2        0.0508         39.6      0.015048\n",
       "606        3150              7.2        0.1524         71.3      0.007520\n",
       "\n",
       "[1052 rows x 5 columns]"
      ]
     },
     "execution_count": 71,
     "metadata": {},
     "output_type": "execute_result"
    }
   ],
   "source": [
    "X_train"
   ]
  },
  {
   "cell_type": "code",
   "execution_count": 123,
   "id": "2119b4e6",
   "metadata": {},
   "outputs": [
    {
     "data": {
      "text/plain": [
       "dict_values([10000, 3.0, 0.3048, 71.3, 0.004257])"
      ]
     },
     "execution_count": 123,
     "metadata": {},
     "output_type": "execute_result"
    }
   ],
   "source": [
    "\n",
    "#this will be my \"single input\" we are creating for input\n",
    "# like a row for to predicth the picklfile Model\n",
    "\n",
    "dict_test = {\n",
    "       'Frequency': 10000,\n",
    " 'Angle of attack': 3.0,\n",
    "    'Chord length': 0.3048,\n",
    "     'Free-stream': 71.3,\n",
    "    'Suction side': 0.004257\n",
    "}\n",
    "dict_test.values()"
   ]
  },
  {
   "cell_type": "code",
   "execution_count": 124,
   "id": "a96132a4",
   "metadata": {},
   "outputs": [
    {
     "data": {
      "text/plain": [
       "dict_values"
      ]
     },
     "execution_count": 124,
     "metadata": {},
     "output_type": "execute_result"
    }
   ],
   "source": [
    "type(dict_test.values())"
   ]
  },
  {
   "cell_type": "code",
   "execution_count": 125,
   "id": "af84c7f2",
   "metadata": {},
   "outputs": [
    {
     "data": {
      "text/plain": [
       "[[10000, 3.0, 0.3048, 71.3, 0.004257]]"
      ]
     },
     "execution_count": 125,
     "metadata": {},
     "output_type": "execute_result"
    }
   ],
   "source": [
    "l=[list(dict_test.values())]\n",
    "l"
   ]
  },
  {
   "cell_type": "code",
   "execution_count": null,
   "id": "ff09f2dc",
   "metadata": {},
   "outputs": [],
   "source": [
    "1250,15.6,0.1016,71.3,0.043726"
   ]
  },
  {
   "cell_type": "code",
   "execution_count": 126,
   "id": "ff917957",
   "metadata": {},
   "outputs": [
    {
     "data": {
      "text/plain": [
       "110.224"
      ]
     },
     "execution_count": 126,
     "metadata": {},
     "output_type": "execute_result"
    }
   ],
   "source": [
    "pickle_model.predict(l)[0]"
   ]
  },
  {
   "cell_type": "code",
   "execution_count": 127,
   "id": "9e3566ad",
   "metadata": {},
   "outputs": [
    {
     "data": {
      "text/plain": [
       "1481    123.178\n",
       "1192    123.564\n",
       "511     127.404\n",
       "450     113.229\n",
       "1433    124.214\n",
       "         ...   \n",
       "111     110.224\n",
       "262     129.002\n",
       "570     129.937\n",
       "868     115.520\n",
       "606     116.783\n",
       "Name: pressure level, Length: 1052, dtype: float64"
      ]
     },
     "execution_count": 127,
     "metadata": {},
     "output_type": "execute_result"
    }
   ],
   "source": [
    "y_train"
   ]
  },
  {
   "cell_type": "code",
   "execution_count": 131,
   "id": "8598f707",
   "metadata": {},
   "outputs": [
    {
     "data": {
      "text/plain": [
       "array([123.178])"
      ]
     },
     "execution_count": 131,
     "metadata": {},
     "output_type": "execute_result"
    }
   ],
   "source": [
    "# 1250,15.6,0.1016,71.3,0.043726\n",
    "dict_test = {\n",
    "       'Frequency': 1250,\n",
    " 'Angle of attack': 15.6,\n",
    "    'Chord length': 0.1016,\n",
    "     'Free-stream': 71.3,\n",
    "    'Suction side': 0.043726\n",
    "}\n",
    "l=[list(dict_test.values())]\n",
    "pickle_model.predict(l) # seethe predicted output correct or not in y_train\n",
    "                        # if it is correct it correct prediction"
   ]
  },
  {
   "cell_type": "code",
   "execution_count": 77,
   "id": "cdadb363",
   "metadata": {},
   "outputs": [
    {
     "data": {
      "text/plain": [
       "dict_keys(['Frequency', 'Angle of attack', 'Chord length', 'Free-stream', 'Suction side'])"
      ]
     },
     "execution_count": 77,
     "metadata": {},
     "output_type": "execute_result"
    }
   ],
   "source": [
    "dict_test.keys()"
   ]
  },
  {
   "cell_type": "code",
   "execution_count": null,
   "id": "268cff58",
   "metadata": {},
   "outputs": [],
   "source": []
  },
  {
   "cell_type": "code",
   "execution_count": null,
   "id": "c0cc2f51",
   "metadata": {},
   "outputs": [],
   "source": []
  },
  {
   "cell_type": "code",
   "execution_count": null,
   "id": "0f2575bc",
   "metadata": {},
   "outputs": [],
   "source": []
  },
  {
   "cell_type": "code",
   "execution_count": null,
   "id": "64f91861",
   "metadata": {},
   "outputs": [],
   "source": []
  },
  {
   "cell_type": "code",
   "execution_count": null,
   "id": "a1d6aba7",
   "metadata": {},
   "outputs": [],
   "source": []
  },
  {
   "cell_type": "code",
   "execution_count": null,
   "id": "bd72c90f",
   "metadata": {},
   "outputs": [],
   "source": [
    "pred=pickle_model.predict(X_test)\n",
    "\n",
    "# this is for \"batch of inputs\" that we giving to pickle model file\n",
    "# b-coz in X_test we have so many features we are not passing\n",
    "# only one feature here so that its a \"batch of inputs\"\n",
    "pred"
   ]
  },
  {
   "cell_type": "code",
   "execution_count": null,
   "id": "0930d660",
   "metadata": {},
   "outputs": [],
   "source": []
  },
  {
   "cell_type": "code",
   "execution_count": 231,
   "id": "def779fa",
   "metadata": {},
   "outputs": [
    {
     "data": {
      "text/html": [
       "<div>\n",
       "<style scoped>\n",
       "    .dataframe tbody tr th:only-of-type {\n",
       "        vertical-align: middle;\n",
       "    }\n",
       "\n",
       "    .dataframe tbody tr th {\n",
       "        vertical-align: top;\n",
       "    }\n",
       "\n",
       "    .dataframe thead th {\n",
       "        text-align: right;\n",
       "    }\n",
       "</style>\n",
       "<table border=\"1\" class=\"dataframe\">\n",
       "  <thead>\n",
       "    <tr style=\"text-align: right;\">\n",
       "      <th></th>\n",
       "      <th>Frequency</th>\n",
       "      <th>Angle of attack</th>\n",
       "      <th>Chord length</th>\n",
       "      <th>Free-stream</th>\n",
       "      <th>Suction side</th>\n",
       "    </tr>\n",
       "  </thead>\n",
       "  <tbody>\n",
       "    <tr>\n",
       "      <th>302</th>\n",
       "      <td>1000</td>\n",
       "      <td>4.0</td>\n",
       "      <td>0.2286</td>\n",
       "      <td>71.3</td>\n",
       "      <td>0.004006</td>\n",
       "    </tr>\n",
       "    <tr>\n",
       "      <th>561</th>\n",
       "      <td>2000</td>\n",
       "      <td>5.4</td>\n",
       "      <td>0.1524</td>\n",
       "      <td>55.5</td>\n",
       "      <td>0.004333</td>\n",
       "    </tr>\n",
       "    <tr>\n",
       "      <th>980</th>\n",
       "      <td>12500</td>\n",
       "      <td>0.0</td>\n",
       "      <td>0.0254</td>\n",
       "      <td>55.5</td>\n",
       "      <td>0.000412</td>\n",
       "    </tr>\n",
       "    <tr>\n",
       "      <th>553</th>\n",
       "      <td>6300</td>\n",
       "      <td>5.4</td>\n",
       "      <td>0.1524</td>\n",
       "      <td>71.3</td>\n",
       "      <td>0.004012</td>\n",
       "    </tr>\n",
       "    <tr>\n",
       "      <th>221</th>\n",
       "      <td>1250</td>\n",
       "      <td>0.0</td>\n",
       "      <td>0.2286</td>\n",
       "      <td>39.6</td>\n",
       "      <td>0.002535</td>\n",
       "    </tr>\n",
       "  </tbody>\n",
       "</table>\n",
       "</div>"
      ],
      "text/plain": [
       "     Frequency  Angle of attack  Chord length  Free-stream  Suction side\n",
       "302       1000              4.0        0.2286         71.3      0.004006\n",
       "561       2000              5.4        0.1524         55.5      0.004333\n",
       "980      12500              0.0        0.0254         55.5      0.000412\n",
       "553       6300              5.4        0.1524         71.3      0.004012\n",
       "221       1250              0.0        0.2286         39.6      0.002535"
      ]
     },
     "execution_count": 231,
     "metadata": {},
     "output_type": "execute_result"
    }
   ],
   "source": [
    "X_train.head()"
   ]
  },
  {
   "cell_type": "code",
   "execution_count": 233,
   "id": "5f36286d",
   "metadata": {},
   "outputs": [
    {
     "data": {
      "text/plain": [
       "StandardScaler()"
      ]
     },
     "execution_count": 233,
     "metadata": {},
     "output_type": "execute_result"
    }
   ],
   "source": [
    "from sklearn.preprocessing import StandardScaler\n",
    "scaler = StandardScaler()\n",
    "scaler"
   ]
  },
  {
   "cell_type": "code",
   "execution_count": 244,
   "id": "8f810e8e",
   "metadata": {},
   "outputs": [],
   "source": [
    "scaler.fit(X_train)\n",
    "scaled_features = scaler.transform(X_train)\n",
    "\n",
    "x_test=scaler.transform(X_test)"
   ]
  },
  {
   "cell_type": "code",
   "execution_count": 245,
   "id": "704c4a36",
   "metadata": {},
   "outputs": [
    {
     "data": {
      "text/plain": [
       "array([[-0.62537326, -0.47118856,  1.00035573,  1.30528999, -0.5385437 ],\n",
       "       [-0.30011648, -0.23546729,  0.18438402,  0.29328688, -0.51331335],\n",
       "       [ 3.1150797 , -1.1446779 , -1.17556882,  0.29328688, -0.81595327],\n",
       "       ...,\n",
       "       [-0.43021919, -0.5890492 , -0.35959711,  0.29328688, -0.67710645],\n",
       "       [-0.13748809, -1.1446779 ,  1.00035573,  1.30528999, -0.6823208 ],\n",
       "       [ 1.09848767, -0.25230453,  1.00035573, -0.72512132, -0.37356337]])"
      ]
     },
     "execution_count": 245,
     "metadata": {},
     "output_type": "execute_result"
    }
   ],
   "source": [
    "scaled_features"
   ]
  },
  {
   "cell_type": "code",
   "execution_count": 246,
   "id": "5df5593b",
   "metadata": {},
   "outputs": [
    {
     "data": {
      "text/plain": [
       "array([[-0.43021919, -1.1446779 , -0.90357825,  1.30528999, -0.79061964],\n",
       "       [ 1.09848767,  0.99365076, -1.17556882,  1.30528999,  0.09248678],\n",
       "       [ 0.67565386,  1.44825606, -0.90357825,  1.30528999,  1.19217807],\n",
       "       ...,\n",
       "       [-0.78800165,  1.78500073, -1.17556882, -0.72512132,  0.48152126],\n",
       "       [ 1.09848767, -1.1446779 , -1.17556882,  1.30528999, -0.81684932],\n",
       "       [-0.78800165, -0.6395609 ,  1.81632743, -1.23112288, -0.43903415]])"
      ]
     },
     "execution_count": 246,
     "metadata": {},
     "output_type": "execute_result"
    }
   ],
   "source": [
    "x_test"
   ]
  },
  {
   "cell_type": "code",
   "execution_count": 263,
   "id": "0620594d",
   "metadata": {},
   "outputs": [
    {
     "data": {
      "text/plain": [
       "KNeighborsRegressor()"
      ]
     },
     "execution_count": 263,
     "metadata": {},
     "output_type": "execute_result"
    }
   ],
   "source": [
    "from sklearn.neighbors import KNeighborsRegressor\n",
    "knn = KNeighborsRegressor(n_neighbors=5)\n",
    "knn.fit(scaled_features,y_train)"
   ]
  },
  {
   "cell_type": "code",
   "execution_count": 264,
   "id": "fd0dfa30",
   "metadata": {},
   "outputs": [],
   "source": [
    "predic = knn.predict(x_test)"
   ]
  },
  {
   "cell_type": "code",
   "execution_count": 265,
   "id": "1124d0ae",
   "metadata": {},
   "outputs": [
    {
     "data": {
      "text/plain": [
       "0.7080489064884432"
      ]
     },
     "execution_count": 265,
     "metadata": {},
     "output_type": "execute_result"
    }
   ],
   "source": [
    "r2_score(y_test,predic)"
   ]
  },
  {
   "cell_type": "code",
   "execution_count": null,
   "id": "fd8ff12e",
   "metadata": {},
   "outputs": [],
   "source": []
  },
  {
   "cell_type": "code",
   "execution_count": 269,
   "id": "22ff9e8a",
   "metadata": {},
   "outputs": [
    {
     "data": {
      "text/plain": [
       "SVR()"
      ]
     },
     "execution_count": 269,
     "metadata": {},
     "output_type": "execute_result"
    }
   ],
   "source": [
    "from sklearn.ensemble import RandomForestRegressor\n",
    "\n",
    "rgsr=RandomForestRegressor(verbose=1,max_depth=2,criterion='entropy')\n",
    "rgrsr.fit(scaled_features,y_train)"
   ]
  },
  {
   "cell_type": "code",
   "execution_count": 270,
   "id": "b36a02c6",
   "metadata": {},
   "outputs": [],
   "source": [
    "Rndm =rgrsr.predict(x_test)"
   ]
  },
  {
   "cell_type": "code",
   "execution_count": 271,
   "id": "f1a6c0d0",
   "metadata": {},
   "outputs": [
    {
     "data": {
      "text/plain": [
       "0.6424128557587212"
      ]
     },
     "execution_count": 271,
     "metadata": {},
     "output_type": "execute_result"
    }
   ],
   "source": [
    "r2_score(y_test,Rndm)"
   ]
  },
  {
   "cell_type": "code",
   "execution_count": null,
   "id": "aaa1be0a",
   "metadata": {},
   "outputs": [],
   "source": []
  }
 ],
 "metadata": {
  "kernelspec": {
   "display_name": "Python 3 (ipykernel)",
   "language": "python",
   "name": "python3"
  },
  "language_info": {
   "codemirror_mode": {
    "name": "ipython",
    "version": 3
   },
   "file_extension": ".py",
   "mimetype": "text/x-python",
   "name": "python",
   "nbconvert_exporter": "python",
   "pygments_lexer": "ipython3",
   "version": "3.9.7"
  }
 },
 "nbformat": 4,
 "nbformat_minor": 5
}
