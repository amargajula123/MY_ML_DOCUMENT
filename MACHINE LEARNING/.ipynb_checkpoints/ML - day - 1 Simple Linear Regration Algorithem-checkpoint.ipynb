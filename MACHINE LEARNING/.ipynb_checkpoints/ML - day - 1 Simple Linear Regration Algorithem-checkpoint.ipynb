{
 "cells": [
  {
   "cell_type": "code",
   "execution_count": null,
   "id": "420cdefc",
   "metadata": {},
   "outputs": [],
   "source": [
    "ML algorithems\n",
    "  1. Superwised ML\n",
    "  2. Unsuperwise ML\n",
    "\n",
    "1. Superwised ML\n",
    "\n",
    "\n",
    "1. Linear Regration\n",
    "2. Ridge Regration\n",
    "1. linear Regration\n",
    "1. linear Regration\n",
    "\n",
    "\n",
    "The ML Intution is work "
   ]
  }
 ],
 "metadata": {
  "kernelspec": {
   "display_name": "Python 3 (ipykernel)",
   "language": "python",
   "name": "python3"
  },
  "language_info": {
   "codemirror_mode": {
    "name": "ipython",
    "version": 3
   },
   "file_extension": ".py",
   "mimetype": "text/x-python",
   "name": "python",
   "nbconvert_exporter": "python",
   "pygments_lexer": "ipython3",
   "version": "3.9.7"
  }
 },
 "nbformat": 4,
 "nbformat_minor": 5
}
