{
 "cells": [
  {
   "cell_type": "markdown",
   "id": "03aa6411",
   "metadata": {},
   "source": [
    "![title](ml_alrgm)"
   ]
  },
  {
   "cell_type": "code",
   "execution_count": 2,
   "id": "22d49b3a",
   "metadata": {},
   "outputs": [],
   "source": [
    "from PIL import Image\n",
    "img=Image.open('ml_alrgm')\n",
    "img"
   ]
  },
  {
   "cell_type": "code",
   "execution_count": null,
   "id": "e04d51bf",
   "metadata": {},
   "outputs": [],
   "source": []
  },
  {
   "cell_type": "code",
   "execution_count": null,
   "id": "fe067d30",
   "metadata": {},
   "outputs": [],
   "source": [
    "Docker :\n",
    "    Dockerhelp us to our source code is  portabule \n",
    "    it is comfortable with all the operating systems\n",
    "    it provides \"isolation\" it isolate our runtime \n",
    "    environment \n",
    "    we need some \"CONTAINNER\" to portable our code\n",
    "    \n",
    "    \n",
    "what is docker image ?\n",
    "instruction or setup commands to create docker image\n",
    "    1. OS {operating system}-- Base layer\n",
    "    2. set folder\n",
    "    3. copy code - {requirement.txt is also avail here}\n",
    "    4. activate Vartual environment\n",
    "    5. install requirements.txt\n",
    "    6. python.app.py --> to create a image we need this all \n",
    "    file and Docker should be install in our system onec it is \n",
    "    done we can build a image we can save this image in Docker\n",
    "    Hub \n",
    "    \n",
    "gitignore := gitignore is a file that should containe folders\n",
    "           and file name that should not be maitain by git \n",
    "   \n",
    "\n",
    "\n",
    " Data versioning :=\n",
    "       creating version of your data data versioning is \n",
    "    happening one is based on timstamp another one is based\n",
    "    on hash value this to information  we can use we perform \n",
    "    data versioning\n",
    "    \n",
    "Entity :=\n",
    "    in the entity artifact we are going to define each and\n",
    "    every  componant of pipeline\n",
    "    \n",
    "    data ingestion_\"artifact\":=\n",
    "        the data what we will get from the data ingestion\n",
    "        we call it as data ingestionartifact similarly all\n",
    "        artifacts\n",
    "    dataTrasform_artifact\n",
    "    dataValidation_artifact\n",
    "    modelTrainer_artifact\n",
    "    modelpusher_artifact\n",
    "    \n",
    "    \n",
    "arfact :=\n",
    "    in the entity artifact we are going to define each and\n",
    "    every  componant of pipeline\n",
    "    \n",
    "config :=\n",
    "    config is all about providing some input to the componant\n",
    "    for that it can perform it task to perform sortain task \n",
    "    we need some inputs those things we call it as configarations\n",
    "    \n"
   ]
  }
 ],
 "metadata": {
  "kernelspec": {
   "display_name": "Python 3 (ipykernel)",
   "language": "python",
   "name": "python3"
  },
  "language_info": {
   "codemirror_mode": {
    "name": "ipython",
    "version": 3
   },
   "file_extension": ".py",
   "mimetype": "text/x-python",
   "name": "python",
   "nbconvert_exporter": "python",
   "pygments_lexer": "ipython3",
   "version": "3.9.7"
  }
 },
 "nbformat": 4,
 "nbformat_minor": 5
}
